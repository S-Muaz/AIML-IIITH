{
  "cells": [
    {
      "cell_type": "markdown",
      "metadata": {
        "id": "w3yfry25JgZK"
      },
      "source": [
        "# Data augmentation\n",
        "\n",
        " In this lab, we will see how augmentation of data samples help in improving the machine learning performance"
      ]
    },
    {
      "cell_type": "code",
      "execution_count": 1,
      "metadata": {
        "id": "xZU8_elooqP0"
      },
      "outputs": [],
      "source": [
        "import numpy as np\n",
        "import matplotlib.pyplot as plt\n",
        "from keras.datasets import mnist\n",
        "# set randomseed\n",
        "rng = np.random.default_rng(seed=42)\n",
        "from sklearn.utils.extmath import cartesian\n",
        "from skimage.transform import rotate, AffineTransform, warp\n",
        "import math"
      ]
    },
    {
      "cell_type": "markdown",
      "metadata": {
        "id": "T5pHYogSMHiE"
      },
      "source": [
        "Augmentation is useful when we have less training data available. Augmentation allows us to 'create' a larger dataset programatically.\n",
        "\n",
        "For this lab we will use a subset of MNIST that is very small, to better understand the effect of augmentation."
      ]
    },
    {
      "cell_type": "code",
      "execution_count": 2,
      "metadata": {
        "colab": {
          "base_uri": "https://localhost:8080/"
        },
        "id": "gJvmWJ58ovx5",
        "outputId": "b24f7c89-5543-4083-9118-0d308fe01be9"
      },
      "outputs": [],
      "source": [
        "#loading the dataset\n",
        "(train_X, train_y), (test_X, test_y) = mnist.load_data()\n",
        "train_X = train_X/255\n",
        "test_X = test_X/255\n",
        "\n",
        "train_X = train_X[::1200,:,:].copy() # subsample. Otherwise it will take too long!\n",
        "train_y = train_y[::1200].copy() # do the same to the labels"
      ]
    },
    {
      "cell_type": "markdown",
      "metadata": {
        "id": "8XamH6z1Rt7S"
      },
      "source": [
        "Let us borrow a few functions from the previous labs:"
      ]
    },
    {
      "cell_type": "code",
      "execution_count": 3,
      "metadata": {
        "id": "Zk2W5_3BRLMS"
      },
      "outputs": [],
      "source": [
        "def NN1(traindata, trainlabel, query):\n",
        "  diff  = traindata - query  # find the difference between features. Numpy automatically takes care of the size here\n",
        "  sq = diff*diff # square the differences\n",
        "  dist = sq.sum(1) # add up the squares\n",
        "  label = trainlabel[np.argmin(dist)] # our predicted label is the label of the training data which has the least distance from the query\n",
        "  return label\n",
        "\n",
        "def NN(traindata, trainlabel, testdata):\n",
        "  # we will run nearest neighbour for each sample in the test data\n",
        "  # and collect the predicted classes in an array using list comprehension\n",
        "  traindata = traindata.reshape(-1, 28*28)\n",
        "  testdata = testdata.reshape(-1,28*28)\n",
        "  predlabel = np.array([NN1(traindata, trainlabel, i) for i in testdata])\n",
        "  return predlabel\n",
        "\n",
        "def Accuracy(gtlabel, predlabel):\n",
        "  assert len(gtlabel)==len(predlabel), \"Length of the groundtruth labels and predicted labels should be the same\"\n",
        "  correct = (gtlabel==predlabel).sum() # count the number of times the groundtruth label is equal to the predicted label.\n",
        "  return correct/len(gtlabel)"
      ]
    },
    {
      "cell_type": "markdown",
      "metadata": {
        "id": "eGiA3LmDSJZo"
      },
      "source": [
        "In this lab, we will use the image pixels themselves as features, instead of extracting features. Each image has 28*28 pixels, so we will flatten them to 784 pixels to use as features. Note that this is very compute intensive and will take a long time.<br>\n",
        "\n",
        "Let us check the baseline accuracy on the test set without any augmentations. We hope that adding augmentations will help us to get better results."
      ]
    },
    {
      "cell_type": "code",
      "execution_count": 4,
      "metadata": {
        "colab": {
          "base_uri": "https://localhost:8080/"
        },
        "id": "4tQvnoasRNEV",
        "outputId": "bf96cc59-cd7b-4236-cb33-a285c5889a8e"
      },
      "outputs": [
        {
          "name": "stdout",
          "output_type": "stream",
          "text": [
            "Baseline accuracy without augmentation is  0.6472\n"
          ]
        }
      ],
      "source": [
        "testpred = NN(train_X, train_y, test_X)\n",
        "print('Baseline accuracy without augmentation is ', Accuracy(test_y, testpred))"
      ]
    },
    {
      "cell_type": "markdown",
      "metadata": {
        "id": "ZfkcMfhIZQ7U"
      },
      "source": [
        "Let us try to improve this accuracy using augmentations. When we create augmentations, we have to make sure that the changes reflect what will naturally occur in the dataset. For example, we should not add colour to our samples as an augmentation because they do not naturally occur. We should not also flip the images in MNIST, because flipped images have different meanings for digits.\n",
        "\n",
        "### Augmentation 1: rotation\n",
        "\n",
        "Let us try rotating the image a little. We will use skimage library for this."
      ]
    },
    {
      "cell_type": "code",
      "execution_count": 5,
      "metadata": {
        "colab": {
          "base_uri": "https://localhost:8080/",
          "height": 861
        },
        "id": "z5WolJ9fZE7L",
        "outputId": "87d10772-e312-46e4-c902-fa10f698fe68"
      },
      "outputs": [
        {
          "data": {
            "image/png": "[encoded data removed]",
            "text/plain": [
              "<Figure size 640x480 with 1 Axes>"
            ]
          },
          "metadata": {},
          "output_type": "display_data"
        },
        {
          "data": {
            "text/plain": [
              "<matplotlib.image.AxesImage at 0x1a8b4b9a490>"
            ]
          },
          "execution_count": 5,
          "metadata": {},
          "output_type": "execute_result"
        },
        {
          "data": {
            "image/png": "[encoded data removed]",
            "text/plain": [
              "<Figure size 640x480 with 1 Axes>"
            ]
          },
          "metadata": {},
          "output_type": "display_data"
        }
      ],
      "source": [
        "plt.imshow(train_X[2], cmap='gray')\n",
        "plt.show()\n",
        "plt.imshow(rotate(train_X[2],25), cmap='gray')"
      ]
    },
    {
      "cell_type": "markdown",
      "metadata": {
        "id": "KE33Yxgggu0c"
      },
      "source": [
        "After rotating, the the class of the image is still the same. Let us make a function to rotate multiple images by random angles. We want a slightly different image every time we run this function. So, we generate a random number between 0 and 1 and change it so that it lies between -constraint/2 and +constraint/2"
      ]
    },
    {
      "cell_type": "code",
      "execution_count": 6,
      "metadata": {
        "id": "vyM7pUV7Reze"
      },
      "outputs": [],
      "source": [
        "def augRotate(sample, angleconstraint):\n",
        "  if angleconstraint==0:\n",
        "    return sample\n",
        "  if len(sample.shape)==2:\n",
        "    sample = np.expand_dims(sample, 0)  # make sure the sample is 3 dimensional\n",
        "  angle = rng.random(len(sample)) # generate random numbers for angles\n",
        "  angle = (angle-0.5)*angleconstraint # make the random angle constrained\n",
        "  nsample = sample.copy() # preallocate the augmented array to make it faster\n",
        "  for ii in range(len(sample)):\n",
        "    nsample[ii] = rotate(sample[ii], angle[ii])\n",
        "  return np.squeeze(nsample) # take care if the input had only one sample."
      ]
    },
    {
      "cell_type": "markdown",
      "metadata": {
        "id": "kDk-N5VNjar9"
      },
      "source": [
        "This function returns a slightly different image each time we call it. So we can increase the number of images in the sample by any multiple."
      ]
    },
    {
      "cell_type": "code",
      "execution_count": 7,
      "metadata": {
        "colab": {
          "base_uri": "https://localhost:8080/",
          "height": 640
        },
        "id": "Vw3O9zGFgI8K",
        "outputId": "dffc1a44-a230-40da-dac6-327466d55131"
      },
      "outputs": [
        {
          "data": {
            "image/png": "[encoded data removed]",
            "text/plain": [
              "<Figure size 640x480 with 1 Axes>"
            ]
          },
          "metadata": {},
          "output_type": "display_data"
        },
        {
          "data": {
            "text/plain": [
              "<matplotlib.image.AxesImage at 0x1a8b2a7f210>"
            ]
          },
          "execution_count": 7,
          "metadata": {},
          "output_type": "execute_result"
        },
        {
          "data": {
            "image/png": "[encoded data removed]",
            "text/plain": [
              "<Figure size 640x480 with 3 Axes>"
            ]
          },
          "metadata": {},
          "output_type": "display_data"
        }
      ],
      "source": [
        "sample = train_X[20]\n",
        "angleconstraint = 70\n",
        "# show the original image\n",
        "plt.imshow(sample, cmap='gray')\n",
        "plt.show()\n",
        "plt.subplot(1,3,1)\n",
        "plt.imshow(augRotate(sample, angleconstraint), cmap='gray') # show an augmented image\n",
        "plt.subplot(1,3,2)\n",
        "plt.imshow(augRotate(sample, angleconstraint), cmap='gray') # show another augmented image from the same sample\n",
        "plt.subplot(1,3,3)\n",
        "plt.imshow(augRotate(sample, angleconstraint), cmap='gray') # one more image from the same sample"
      ]
    },
    {
      "cell_type": "markdown",
      "metadata": {
        "id": "ytv3NxF-kgxN"
      },
      "source": [
        "Let us augment the whole dataset and see if this improves the test accuracy"
      ]
    },
    {
      "cell_type": "code",
      "execution_count": 8,
      "metadata": {
        "colab": {
          "base_uri": "https://localhost:8080/"
        },
        "id": "iNzNAoDBkRzj",
        "outputId": "7dc07fcc-aac8-4243-c046-8bec9095edd0"
      },
      "outputs": [
        {
          "name": "stdout",
          "output_type": "stream",
          "text": [
            "Accuracy after rotation augmentation is  0.6616\n"
          ]
        }
      ],
      "source": [
        "# hyperparameters\n",
        "angleconstraint = 60\n",
        "naugmentations = 5\n",
        "\n",
        "# augment\n",
        "augdata = train_X # we include the original images also in the augmented dataset\n",
        "auglabel = train_y\n",
        "for ii in range(naugmentations):\n",
        "  augdata = np.concatenate((augdata, augRotate(train_X, angleconstraint))) # concatenate the augmented data to the set\n",
        "  auglabel = np.concatenate((auglabel, train_y))  # the labels don't change when we augment\n",
        "\n",
        "# check the test accuracy\n",
        "testpred = NN(augdata, auglabel, test_X)\n",
        "print('Accuracy after rotation augmentation is ', Accuracy(test_y, testpred))"
      ]
    },
    {
      "cell_type": "markdown",
      "metadata": {
        "id": "E88Nt9s1p5R6"
      },
      "source": [
        "The angle constraint is a hyperparameter which we have to tune using a validation set. (Here we are not doing that for time constraints). Let us try a grid search to find the best angle constraint."
      ]
    },
    {
      "cell_type": "code",
      "execution_count": 9,
      "metadata": {
        "colab": {
          "base_uri": "https://localhost:8080/"
        },
        "id": "aiaFRLREmGp6",
        "outputId": "1ddccdcd-501d-4815-cb07-318a6bfd235f"
      },
      "outputs": [
        {
          "name": "stdout",
          "output_type": "stream",
          "text": [
            "Accuracy after rotation augmentation constrained by  0  is  0.6472\n",
            "Accuracy after rotation augmentation constrained by  10  is  0.6727\n",
            "Accuracy after rotation augmentation constrained by  20  is  0.673\n",
            "Accuracy after rotation augmentation constrained by  30  is  0.6737\n",
            "Accuracy after rotation augmentation constrained by  40  is  0.6731\n",
            "Accuracy after rotation augmentation constrained by  50  is  0.6701\n",
            "Accuracy after rotation augmentation constrained by  60  is  0.6675\n",
            "Accuracy after rotation augmentation constrained by  70  is  0.661\n",
            "Accuracy after rotation augmentation constrained by  80  is  0.6462\n",
            "Accuracy after rotation augmentation constrained by  90  is  0.6469\n"
          ]
        }
      ],
      "source": [
        "angleconstraints = [0,10,20,30,40,50,60,70,80,90] # the values we want to test\n",
        "accuracies = np.zeros(len(angleconstraints), dtype=float) # we will save the values here\n",
        "\n",
        "for ii in range(len(angleconstraints)):\n",
        "  # create the augmented dataset\n",
        "  augdata = train_X # we include the original images also in the augmented dataset\n",
        "  auglabel = train_y\n",
        "  for jj in range(naugmentations):\n",
        "    augdata = np.concatenate((augdata, augRotate(train_X, angleconstraints[ii]))) # concatenate the augmented data to the set\n",
        "    auglabel = np.concatenate((auglabel, train_y))  # the labels don't change when we augment\n",
        "\n",
        "  # check the test accuracy\n",
        "  testpred = NN(augdata, auglabel, test_X)\n",
        "  accuracies[ii] = Accuracy(test_y, testpred)\n",
        "  print('Accuracy after rotation augmentation constrained by ',angleconstraints[ii], ' is ', accuracies[ii], flush=True)"
      ]
    },
    {
      "cell_type": "markdown",
      "metadata": {
        "id": "2oVDRYP2rxob"
      },
      "source": [
        "Let us see the best value for angle constraint: (Ideally this should be done on validation set, not test set)"
      ]
    },
    {
      "cell_type": "code",
      "execution_count": 10,
      "metadata": {
        "colab": {
          "base_uri": "https://localhost:8080/",
          "height": 486
        },
        "id": "LqthJa_pmMHz",
        "outputId": "81730fdf-8ebb-4161-e276-29c1d54b3c8c"
      },
      "outputs": [
        {
          "data": {
            "text/plain": [
              "<matplotlib.collections.PathCollection at 0x1a8b2ae5590>"
            ]
          },
          "execution_count": 10,
          "metadata": {},
          "output_type": "execute_result"
        },
        {
          "data": {
            "image/png": "[encoded data removed]",
            "text/plain": [
              "<Figure size 640x480 with 1 Axes>"
            ]
          },
          "metadata": {},
          "output_type": "display_data"
        }
      ],
      "source": [
        "fig = plt.figure()\n",
        "ax = fig.add_axes([0.1, 0.1, 0.8, 0.8]) # main axes\n",
        "# plot the variation of accuracy\n",
        "ax.plot(angleconstraints, accuracies)\n",
        "ax.set_xlabel('angle')\n",
        "ax.set_ylabel('accuracy')\n",
        "# plot the maximum accuracy\n",
        "maxind = np.argmax(accuracies)\n",
        "plt.scatter(angleconstraints[maxind], accuracies[maxind], c='red')"
      ]
    },
    {
      "cell_type": "markdown",
      "metadata": {
        "id": "eJ8YuVfCuGTj"
      },
      "source": [
        "Let us try one more augmentation: shear. Here is what this looks like:"
      ]
    },
    {
      "cell_type": "code",
      "execution_count": 11,
      "metadata": {
        "id": "pMiw46NLwssK"
      },
      "outputs": [],
      "source": [
        "def shear(sample, amount):\n",
        "  tform = AffineTransform(shear = amount) # create the shear transform\n",
        "  img = warp(sample, tform) # apply the shear\n",
        "  # this makes the digit off-center. Since all the images in the test set are centralized, we will do the same here\n",
        "  col = img.sum(0).nonzero()[0]\n",
        "  row = img.sum(1).nonzero()[0]\n",
        "  if len(col)>0 and len(row)>0:\n",
        "    xshift = int(sample.shape[0]/2 - (row[0]+row[-1])/2)\n",
        "    yshift = int(sample.shape[1]/2 - (col[0]+col[-1])/2)\n",
        "    img = np.roll(img, (xshift, yshift),(0,1))\n",
        "  return img"
      ]
    },
    {
      "cell_type": "code",
      "execution_count": 12,
      "metadata": {
        "colab": {
          "base_uri": "https://localhost:8080/",
          "height": 861
        },
        "id": "4_u_EYpmnABK",
        "outputId": "03d804ac-97ad-4318-dc0c-1e881c5c294f"
      },
      "outputs": [
        {
          "data": {
            "image/png": "[encoded data removed]",
            "text/plain": [
              "<Figure size 640x480 with 1 Axes>"
            ]
          },
          "metadata": {},
          "output_type": "display_data"
        },
        {
          "data": {
            "text/plain": [
              "<matplotlib.image.AxesImage at 0x1a8b6e23290>"
            ]
          },
          "execution_count": 12,
          "metadata": {},
          "output_type": "execute_result"
        },
        {
          "data": {
            "image/png": "[encoded data removed]",
            "text/plain": [
              "<Figure size 640x480 with 1 Axes>"
            ]
          },
          "metadata": {},
          "output_type": "display_data"
        }
      ],
      "source": [
        "sample = train_X[2]\n",
        "plt.imshow(sample, cmap='gray')\n",
        "plt.show()\n",
        "\n",
        "# apply shear\n",
        "plt.imshow(shear(sample, 0.4), cmap='gray')"
      ]
    },
    {
      "cell_type": "markdown",
      "metadata": {
        "id": "lGnWMoyM2pK4"
      },
      "source": [
        "Create an augmentation function which applies a random shear according to the constraint we provide:"
      ]
    },
    {
      "cell_type": "code",
      "execution_count": 13,
      "metadata": {
        "id": "-qLDJyGytwP5"
      },
      "outputs": [],
      "source": [
        "def augShear(sample, shearconstraint):\n",
        "  if shearconstraint==0:\n",
        "    return sample\n",
        "  if len(sample.shape)==2:\n",
        "    sample = np.expand_dims(sample, 0)  # make sure the sample is 3 dimensional\n",
        "  amt = rng.random(len(sample)) # generate random numbers for shear\n",
        "  amt = (amt-0.5)*shearconstraint # make the random shear constrained\n",
        "  nsample = sample.copy() # preallocate the augmented array to make it faster\n",
        "  for ii in range(len(sample)):\n",
        "    nsample[ii] = shear(sample[ii], amt[ii])\n",
        "  return np.squeeze(nsample) # take care if the input had only one sample."
      ]
    },
    {
      "cell_type": "markdown",
      "metadata": {
        "id": "s6lQcWW93suJ"
      },
      "source": [
        "Let us do a grid search to find the best shear constraint."
      ]
    },
    {
      "cell_type": "code",
      "execution_count": 15,
      "metadata": {
        "colab": {
          "base_uri": "https://localhost:8080/"
        },
        "id": "l_wrqPkrzBb_",
        "outputId": "05c81213-798a-4f4b-c127-3dd5e4a77c64"
      },
      "outputs": [
        {
          "name": "stdout",
          "output_type": "stream",
          "text": [
            "Accuracy after shear augmentation constrained by  0  is  0.6472\n",
            "Accuracy after shear augmentation constrained by  0.2  is  0.6234\n",
            "Accuracy after shear augmentation constrained by  0.4  is  0.6458\n",
            "Accuracy after shear augmentation constrained by  0.6  is  0.6515\n",
            "Accuracy after shear augmentation constrained by  0.8  is  0.6625\n",
            "Accuracy after shear augmentation constrained by  1.0  is  0.6697\n",
            "Accuracy after shear augmentation constrained by  1.2  is  0.6547\n",
            "Accuracy after shear augmentation constrained by  1.4  is  0.642\n",
            "Accuracy after shear augmentation constrained by  1.6  is  0.6372\n",
            "Accuracy after shear augmentation constrained by  1.8  is  0.6574\n",
            "Accuracy after shear augmentation constrained by  2.0  is  0.637\n"
          ]
        }
      ],
      "source": [
        "shearconstraints = [0, 0.2,0.4,0.6,0.8,1.0,1.2,1.4,1.6,1.8,2.0] # the values we want to test\n",
        "accuracies = np.zeros(len(shearconstraints), dtype=float) # we will save the values here\n",
        "\n",
        "for ii in range(len(shearconstraints)):\n",
        "  # create the augmented dataset\n",
        "  augdata = train_X # we include the original images also in the augmented dataset\n",
        "  auglabel = train_y\n",
        "  for jj in range(naugmentations):\n",
        "    augdata = np.concatenate((augdata, augShear(train_X, shearconstraints[ii]))) # concatenate the augmented data to the set\n",
        "    auglabel = np.concatenate((auglabel, train_y))  # the labels don't change when we augment\n",
        "\n",
        "  # check the test accuracy\n",
        "  testpred = NN(augdata, auglabel, test_X)\n",
        "  accuracies[ii] = Accuracy(test_y, testpred)\n",
        "  print('Accuracy after shear augmentation constrained by ',shearconstraints[ii], ' is ', accuracies[ii], flush=True)"
      ]
    },
    {
      "cell_type": "code",
      "execution_count": 16,
      "metadata": {
        "colab": {
          "base_uri": "https://localhost:8080/",
          "height": 482
        },
        "id": "EKaH-YR-zVnA",
        "outputId": "c999d132-aff9-4774-c687-82546f53fd75"
      },
      "outputs": [
        {
          "data": {
            "text/plain": [
              "<matplotlib.collections.PathCollection at 0x1a8b78fb3d0>"
            ]
          },
          "execution_count": 16,
          "metadata": {},
          "output_type": "execute_result"
        },
        {
          "data": {
            "image/png": "[encoded data removed]",
            "text/plain": [
              "<Figure size 640x480 with 1 Axes>"
            ]
          },
          "metadata": {},
          "output_type": "display_data"
        }
      ],
      "source": [
        "fig = plt.figure()\n",
        "ax = fig.add_axes([0.1, 0.1, 0.8, 0.8]) # main axes\n",
        "# plot the variation of accuracy\n",
        "ax.plot(shearconstraints, accuracies)\n",
        "ax.set_xlabel('angle')\n",
        "ax.set_ylabel('accuracy')\n",
        "# plot the maximum accuracy\n",
        "maxind = np.argmax(accuracies)\n",
        "plt.scatter(shearconstraints[maxind], accuracies[maxind], c='red')"
      ]
    },
    {
      "cell_type": "markdown",
      "metadata": {
        "id": "ccfdbRcQ7Zgg"
      },
      "source": [
        "We can do multiple augmentations at the same time. Here is a function to do both shear and rotation to the sample. In this case, we will have two hyperparameters."
      ]
    },
    {
      "cell_type": "code",
      "execution_count": 19,
      "metadata": {
        "id": "sh8S_Pxa0XCv"
      },
      "outputs": [],
      "source": [
        "def augRotateShear(sample, angleconstraint, shearconstraint):\n",
        "  if len(sample.shape)==2:\n",
        "    sample = np.expand_dims(sample, 0)  # make sure the sample is 3 dimensional\n",
        "  amt = rng.random(len(sample)) # generate random numbers for shear\n",
        "  amt = (amt-0.5)*shearconstraint # make the random shear constrained\n",
        "  angle = rng.random(len(sample)) # generate random numbers for angles\n",
        "  angle = (angle-0.5)*angleconstraint # make the random angle constrained\n",
        "  nsample = sample.copy() # preallocate the augmented array to make it faster\n",
        "  for ii in range(len(sample)):\n",
        "    nsample[ii] = rotate(shear(sample[ii], amt[ii]), angle[ii]) # first apply shear, then rotate\n",
        "  return np.squeeze(nsample) # take care if the input had only one sample."
      ]
    },
    {
      "cell_type": "markdown",
      "metadata": {
        "id": "OGKyjjNx-NQ4"
      },
      "source": [
        "Since we have two hyperparameters, we have to do the grid search on a 2 dimensional matrix. We can use our previous experience to inform where to search for the best hyperparameters."
      ]
    },
    {
      "cell_type": "code",
      "execution_count": 22,
      "metadata": {
        "colab": {
          "base_uri": "https://localhost:8080/"
        },
        "id": "TJC45WRg0pOP",
        "outputId": "cfabc6b5-8894-45d5-81be-34587785b479"
      },
      "outputs": [
        {
          "name": "stdout",
          "output_type": "stream",
          "text": [
            "Accuracy after augmentation shear: 0.0 angle: 0.0  is  0.6332\n",
            "Accuracy after augmentation shear: 0.0 angle: 10.0  is  0.611\n",
            "Accuracy after augmentation shear: 0.0 angle: 20.0  is  0.6059\n",
            "Accuracy after augmentation shear: 0.0 angle: 30.0  is  0.6049\n",
            "Accuracy after augmentation shear: 0.0 angle: 40.0  is  0.6182\n",
            "Accuracy after augmentation shear: 0.0 angle: 50.0  is  0.6317\n",
            "Accuracy after augmentation shear: 0.0 angle: 60.0  is  0.6157\n",
            "Accuracy after augmentation shear: 0.2 angle: 0.0  is  0.634\n",
            "Accuracy after augmentation shear: 0.2 angle: 10.0  is  0.6301\n"
          ]
        },
        {
          "ename": "KeyboardInterrupt",
          "evalue": "",
          "output_type": "error",
          "traceback": [
            "\u001b[1;31m---------------------------------------------------------------------------\u001b[0m",
            "\u001b[1;31mKeyboardInterrupt\u001b[0m                         Traceback (most recent call last)",
            "\u001b[1;32mc:\\Users\\uddin\\OneDrive\\Desktop\\Muaz\\AIML-IITH\\AIML_Module_1_Lab_3_Data_Augmentation.ipynb Cell 32\u001b[0m line \u001b[0;36m1\n\u001b[0;32m     <a href='vscode-notebook-cell:/c%3A/Users/uddin/OneDrive/Desktop/Muaz/AIML-IITH/AIML_Module_1_Lab_3_Data_Augmentation.ipynb#X43sZmlsZQ%3D%3D?line=12'>13</a>\u001b[0m   auglabel \u001b[39m=\u001b[39m np\u001b[39m.\u001b[39mconcatenate((auglabel, train_y))  \u001b[39m# the labels don't change when we augment\u001b[39;00m\n\u001b[0;32m     <a href='vscode-notebook-cell:/c%3A/Users/uddin/OneDrive/Desktop/Muaz/AIML-IITH/AIML_Module_1_Lab_3_Data_Augmentation.ipynb#X43sZmlsZQ%3D%3D?line=14'>15</a>\u001b[0m \u001b[39m# check the test accuracy\u001b[39;00m\n\u001b[1;32m---> <a href='vscode-notebook-cell:/c%3A/Users/uddin/OneDrive/Desktop/Muaz/AIML-IITH/AIML_Module_1_Lab_3_Data_Augmentation.ipynb#X43sZmlsZQ%3D%3D?line=15'>16</a>\u001b[0m testpred \u001b[39m=\u001b[39m NN(augdata, auglabel, test_X)\n\u001b[0;32m     <a href='vscode-notebook-cell:/c%3A/Users/uddin/OneDrive/Desktop/Muaz/AIML-IITH/AIML_Module_1_Lab_3_Data_Augmentation.ipynb#X43sZmlsZQ%3D%3D?line=16'>17</a>\u001b[0m accuracies[ii] \u001b[39m=\u001b[39m Accuracy(test_y, testpred)\n\u001b[0;32m     <a href='vscode-notebook-cell:/c%3A/Users/uddin/OneDrive/Desktop/Muaz/AIML-IITH/AIML_Module_1_Lab_3_Data_Augmentation.ipynb#X43sZmlsZQ%3D%3D?line=17'>18</a>\u001b[0m \u001b[39mprint\u001b[39m(\u001b[39m'\u001b[39m\u001b[39mAccuracy after augmentation shear:\u001b[39m\u001b[39m'\u001b[39m,hyp[ii][\u001b[39m0\u001b[39m], \u001b[39m'\u001b[39m\u001b[39mangle:\u001b[39m\u001b[39m'\u001b[39m,hyp[ii][\u001b[39m1\u001b[39m], \u001b[39m'\u001b[39m\u001b[39m is \u001b[39m\u001b[39m'\u001b[39m, accuracies[ii], flush\u001b[39m=\u001b[39m\u001b[39mTrue\u001b[39;00m)\n",
            "\u001b[1;32mc:\\Users\\uddin\\OneDrive\\Desktop\\Muaz\\AIML-IITH\\AIML_Module_1_Lab_3_Data_Augmentation.ipynb Cell 32\u001b[0m line \u001b[0;36m1\n\u001b[0;32m     <a href='vscode-notebook-cell:/c%3A/Users/uddin/OneDrive/Desktop/Muaz/AIML-IITH/AIML_Module_1_Lab_3_Data_Augmentation.ipynb#X43sZmlsZQ%3D%3D?line=10'>11</a>\u001b[0m traindata \u001b[39m=\u001b[39m traindata\u001b[39m.\u001b[39mreshape(\u001b[39m-\u001b[39m\u001b[39m1\u001b[39m, \u001b[39m28\u001b[39m\u001b[39m*\u001b[39m\u001b[39m28\u001b[39m)\n\u001b[0;32m     <a href='vscode-notebook-cell:/c%3A/Users/uddin/OneDrive/Desktop/Muaz/AIML-IITH/AIML_Module_1_Lab_3_Data_Augmentation.ipynb#X43sZmlsZQ%3D%3D?line=11'>12</a>\u001b[0m testdata \u001b[39m=\u001b[39m testdata\u001b[39m.\u001b[39mreshape(\u001b[39m-\u001b[39m\u001b[39m1\u001b[39m,\u001b[39m28\u001b[39m\u001b[39m*\u001b[39m\u001b[39m28\u001b[39m)\n\u001b[1;32m---> <a href='vscode-notebook-cell:/c%3A/Users/uddin/OneDrive/Desktop/Muaz/AIML-IITH/AIML_Module_1_Lab_3_Data_Augmentation.ipynb#X43sZmlsZQ%3D%3D?line=12'>13</a>\u001b[0m predlabel \u001b[39m=\u001b[39m np\u001b[39m.\u001b[39marray([NN1(traindata, trainlabel, i) \u001b[39mfor\u001b[39;49;00m i \u001b[39min\u001b[39;49;00m testdata])\n\u001b[0;32m     <a href='vscode-notebook-cell:/c%3A/Users/uddin/OneDrive/Desktop/Muaz/AIML-IITH/AIML_Module_1_Lab_3_Data_Augmentation.ipynb#X43sZmlsZQ%3D%3D?line=13'>14</a>\u001b[0m \u001b[39mreturn\u001b[39;00m predlabel\n",
            "\u001b[1;32mc:\\Users\\uddin\\OneDrive\\Desktop\\Muaz\\AIML-IITH\\AIML_Module_1_Lab_3_Data_Augmentation.ipynb Cell 32\u001b[0m line \u001b[0;36m1\n\u001b[0;32m     <a href='vscode-notebook-cell:/c%3A/Users/uddin/OneDrive/Desktop/Muaz/AIML-IITH/AIML_Module_1_Lab_3_Data_Augmentation.ipynb#X43sZmlsZQ%3D%3D?line=10'>11</a>\u001b[0m traindata \u001b[39m=\u001b[39m traindata\u001b[39m.\u001b[39mreshape(\u001b[39m-\u001b[39m\u001b[39m1\u001b[39m, \u001b[39m28\u001b[39m\u001b[39m*\u001b[39m\u001b[39m28\u001b[39m)\n\u001b[0;32m     <a href='vscode-notebook-cell:/c%3A/Users/uddin/OneDrive/Desktop/Muaz/AIML-IITH/AIML_Module_1_Lab_3_Data_Augmentation.ipynb#X43sZmlsZQ%3D%3D?line=11'>12</a>\u001b[0m testdata \u001b[39m=\u001b[39m testdata\u001b[39m.\u001b[39mreshape(\u001b[39m-\u001b[39m\u001b[39m1\u001b[39m,\u001b[39m28\u001b[39m\u001b[39m*\u001b[39m\u001b[39m28\u001b[39m)\n\u001b[1;32m---> <a href='vscode-notebook-cell:/c%3A/Users/uddin/OneDrive/Desktop/Muaz/AIML-IITH/AIML_Module_1_Lab_3_Data_Augmentation.ipynb#X43sZmlsZQ%3D%3D?line=12'>13</a>\u001b[0m predlabel \u001b[39m=\u001b[39m np\u001b[39m.\u001b[39marray([NN1(traindata, trainlabel, i) \u001b[39mfor\u001b[39;00m i \u001b[39min\u001b[39;00m testdata])\n\u001b[0;32m     <a href='vscode-notebook-cell:/c%3A/Users/uddin/OneDrive/Desktop/Muaz/AIML-IITH/AIML_Module_1_Lab_3_Data_Augmentation.ipynb#X43sZmlsZQ%3D%3D?line=13'>14</a>\u001b[0m \u001b[39mreturn\u001b[39;00m predlabel\n",
            "\u001b[1;32mc:\\Users\\uddin\\OneDrive\\Desktop\\Muaz\\AIML-IITH\\AIML_Module_1_Lab_3_Data_Augmentation.ipynb Cell 32\u001b[0m line \u001b[0;36m4\n\u001b[0;32m      <a href='vscode-notebook-cell:/c%3A/Users/uddin/OneDrive/Desktop/Muaz/AIML-IITH/AIML_Module_1_Lab_3_Data_Augmentation.ipynb#X43sZmlsZQ%3D%3D?line=1'>2</a>\u001b[0m diff  \u001b[39m=\u001b[39m traindata \u001b[39m-\u001b[39m query  \u001b[39m# find the difference between features. Numpy automatically takes care of the size here\u001b[39;00m\n\u001b[0;32m      <a href='vscode-notebook-cell:/c%3A/Users/uddin/OneDrive/Desktop/Muaz/AIML-IITH/AIML_Module_1_Lab_3_Data_Augmentation.ipynb#X43sZmlsZQ%3D%3D?line=2'>3</a>\u001b[0m sq \u001b[39m=\u001b[39m diff\u001b[39m*\u001b[39mdiff \u001b[39m# square the differences\u001b[39;00m\n\u001b[1;32m----> <a href='vscode-notebook-cell:/c%3A/Users/uddin/OneDrive/Desktop/Muaz/AIML-IITH/AIML_Module_1_Lab_3_Data_Augmentation.ipynb#X43sZmlsZQ%3D%3D?line=3'>4</a>\u001b[0m dist \u001b[39m=\u001b[39m sq\u001b[39m.\u001b[39;49msum(\u001b[39m1\u001b[39;49m) \u001b[39m# add up the squares\u001b[39;00m\n\u001b[0;32m      <a href='vscode-notebook-cell:/c%3A/Users/uddin/OneDrive/Desktop/Muaz/AIML-IITH/AIML_Module_1_Lab_3_Data_Augmentation.ipynb#X43sZmlsZQ%3D%3D?line=4'>5</a>\u001b[0m label \u001b[39m=\u001b[39m trainlabel[np\u001b[39m.\u001b[39margmin(dist)] \u001b[39m# our predicted label is the label of the training data which has the least distance from the query\u001b[39;00m\n\u001b[0;32m      <a href='vscode-notebook-cell:/c%3A/Users/uddin/OneDrive/Desktop/Muaz/AIML-IITH/AIML_Module_1_Lab_3_Data_Augmentation.ipynb#X43sZmlsZQ%3D%3D?line=5'>6</a>\u001b[0m \u001b[39mreturn\u001b[39;00m label\n",
            "File \u001b[1;32mc:\\Users\\uddin\\AppData\\Local\\Programs\\Python\\Python311\\Lib\\site-packages\\numpy\\core\\_methods.py:47\u001b[0m, in \u001b[0;36m_sum\u001b[1;34m(a, axis, dtype, out, keepdims, initial, where)\u001b[0m\n\u001b[0;32m     43\u001b[0m \u001b[39mdef\u001b[39;00m \u001b[39m_amin\u001b[39m(a, axis\u001b[39m=\u001b[39m\u001b[39mNone\u001b[39;00m, out\u001b[39m=\u001b[39m\u001b[39mNone\u001b[39;00m, keepdims\u001b[39m=\u001b[39m\u001b[39mFalse\u001b[39;00m,\n\u001b[0;32m     44\u001b[0m           initial\u001b[39m=\u001b[39m_NoValue, where\u001b[39m=\u001b[39m\u001b[39mTrue\u001b[39;00m):\n\u001b[0;32m     45\u001b[0m     \u001b[39mreturn\u001b[39;00m umr_minimum(a, axis, \u001b[39mNone\u001b[39;00m, out, keepdims, initial, where)\n\u001b[1;32m---> 47\u001b[0m \u001b[39mdef\u001b[39;00m \u001b[39m_sum\u001b[39m(a, axis\u001b[39m=\u001b[39m\u001b[39mNone\u001b[39;00m, dtype\u001b[39m=\u001b[39m\u001b[39mNone\u001b[39;00m, out\u001b[39m=\u001b[39m\u001b[39mNone\u001b[39;00m, keepdims\u001b[39m=\u001b[39m\u001b[39mFalse\u001b[39;00m,\n\u001b[0;32m     48\u001b[0m          initial\u001b[39m=\u001b[39m_NoValue, where\u001b[39m=\u001b[39m\u001b[39mTrue\u001b[39;00m):\n\u001b[0;32m     49\u001b[0m     \u001b[39mreturn\u001b[39;00m umr_sum(a, axis, dtype, out, keepdims, initial, where)\n\u001b[0;32m     51\u001b[0m \u001b[39mdef\u001b[39;00m \u001b[39m_prod\u001b[39m(a, axis\u001b[39m=\u001b[39m\u001b[39mNone\u001b[39;00m, dtype\u001b[39m=\u001b[39m\u001b[39mNone\u001b[39;00m, out\u001b[39m=\u001b[39m\u001b[39mNone\u001b[39;00m, keepdims\u001b[39m=\u001b[39m\u001b[39mFalse\u001b[39;00m,\n\u001b[0;32m     52\u001b[0m           initial\u001b[39m=\u001b[39m_NoValue, where\u001b[39m=\u001b[39m\u001b[39mTrue\u001b[39;00m):\n",
            "\u001b[1;31mKeyboardInterrupt\u001b[0m: "
          ]
        }
      ],
      "source": [
        "shearconstraints = [0, 0.2,0.4,0.6,0.8,1.0,1.2,1.4,1.6] # the values we want to test\n",
        "angleconstraints = [0,10,20,30,40,50,60] # the values we want to test\n",
        "hyp = cartesian((shearconstraints, angleconstraints)) # cartesian product of both\n",
        "\n",
        "accuracies = np.zeros(len(hyp), dtype=float) # we will save the values here\n",
        "\n",
        "for ii in range(len(hyp)):\n",
        "  # create the augmented dataset\n",
        "  augdata = train_X # we include the original images also in the augmented dataset\n",
        "  auglabel = train_y\n",
        "  for jj in range(naugmentations):\n",
        "    augdata = np.concatenate((augdata, augRotateShear(train_X, hyp[ii][0], hyp[ii][1]))) # concatenate the augmented data to the set\n",
        "    auglabel = np.concatenate((auglabel, train_y))  # the labels don't change when we augment\n",
        "\n",
        "  # check the test accuracy\n",
        "  testpred = NN(augdata, auglabel, test_X)\n",
        "  accuracies[ii] = Accuracy(test_y, testpred)\n",
        "  print('Accuracy after augmentation shear:',hyp[ii][0], 'angle:',hyp[ii][1], ' is ', accuracies[ii], flush=True)"
      ]
    },
    {
      "cell_type": "markdown",
      "metadata": {
        "id": "PT6CnvSDEX7a"
      },
      "source": [
        "Let us plot it two dimensionally to see which is the best value for the hyperparameters:"
      ]
    },
    {
      "cell_type": "code",
      "execution_count": 23,
      "metadata": {
        "colab": {
          "base_uri": "https://localhost:8080/",
          "height": 482
        },
        "id": "jD2i7msI_cLd",
        "outputId": "eeeba410-ef4a-4547-ce1d-98274842ec60"
      },
      "outputs": [
        {
          "data": {
            "text/plain": [
              "<matplotlib.colorbar.Colorbar at 0x1a8b809f450>"
            ]
          },
          "execution_count": 23,
          "metadata": {},
          "output_type": "execute_result"
        },
        {
          "data": {
            "image/png": "[encoded data removed]",
            "text/plain": [
              "<Figure size 640x480 with 2 Axes>"
            ]
          },
          "metadata": {},
          "output_type": "display_data"
        }
      ],
      "source": [
        "fig = plt.figure()\n",
        "ax = fig.add_axes([0.1, 0.1, 0.8, 0.8]) # main axes\n",
        "im = ax.imshow(accuracies.reshape((len(shearconstraints), len(angleconstraints))), cmap='inferno')\n",
        "ax.set_xlabel('angle')\n",
        "ax.set_ylabel('shear')\n",
        "ax.set_xticks(np.arange(len(angleconstraints)));\n",
        "ax.set_xticklabels(angleconstraints);\n",
        "ax.set_yticks(np.arange(len(shearconstraints)));\n",
        "ax.set_yticklabels(shearconstraints);\n",
        "plt.colorbar(im)"
      ]
    },
    {
      "cell_type": "markdown",
      "metadata": {
        "id": "OHcZWJiFJDMh"
      },
      "source": [
        "It seems that rotation and shear don't mix! The best accuracy is when rotation is zero."
      ]
    },
    {
      "cell_type": "markdown",
      "metadata": {
        "id": "PAasQo1C3x4A"
      },
      "source": [
        "## Questions\n",
        "Try these questions for better understanding. You may not be able to solve all of them.\n",
        "1. What is the best value for angle constraint and shear constraint you got? How much did the accuracy improve as compared to not using augmentations?\n",
        "2. Can you increase the accuracy by increasing the number of augmentations from each sample?\n",
        "3. Try implementing a few augmentations of your own and experimenting with them. A good reference is <a href=https://www.analyticsvidhya.com/blog/2019/12/image-augmentation-deep-learning-pytorch/>here. </a>\n",
        "4. Try combining various augmentations. What is the highest accuracy you can get? What is the smallest training dataset you can take and still get accuracy above 50%?\n",
        "\n",
        "Whenever you do any experiment, a good practice is to vary the hyperparameters gradually and create a graph of your results, like we did for gridsearch."
      ]
    },
    {
      "cell_type": "code",
      "execution_count": 25,
      "metadata": {},
      "outputs": [
        {
          "name": "stdout",
          "output_type": "stream",
          "text": [
            "Best Angle Constraint: 0.2\n",
            "Best Shear Constraint: 0.0\n",
            "Best Accuracy: 0.634\n",
            "Baseline Accuracy without Augmentations: 0.6301\n",
            "Best Accuracy with Augmentations: 0.634\n",
            "Accuracy Improvement: 0.0039000000000000146\n"
          ]
        }
      ],
      "source": [
        "# Find the index of the maximum accuracy in the accuracies array\n",
        "best_index = np.argmax(accuracies)\n",
        "\n",
        "# Get the corresponding values of angle and shear constraints\n",
        "best_angle_constraint, best_shear_constraint = hyp[best_index]\n",
        "\n",
        "# Find the best accuracy obtained\n",
        "best_accuracy = accuracies[best_index]\n",
        "\n",
        "# Print the results\n",
        "print('Best Angle Constraint:', best_angle_constraint)\n",
        "print('Best Shear Constraint:', best_shear_constraint)\n",
        "print('Best Accuracy:', best_accuracy)\n",
        "\n",
        "\n",
        "# Calculate the baseline accuracy without augmentations\n",
        "baseline_accuracy = Accuracy(test_y, testpred)  # You already calculated this earlier\n",
        "\n",
        "# Calculate the improvement in accuracy\n",
        "accuracy_improvement = best_accuracy - baseline_accuracy\n",
        "\n",
        "# Print the results\n",
        "print('Baseline Accuracy without Augmentations:', baseline_accuracy)\n",
        "print('Best Accuracy with Augmentations:', best_accuracy)\n",
        "print('Accuracy Improvement:', accuracy_improvement)\n",
        "\n"
      ]
    },
    {
      "cell_type": "markdown",
      "metadata": {},
      "source": [
        "<h4>1st Answer</h4>\n",
        "the best angle constraint and best shear constraint are found to be 0.2 and 0.0 after the calculation the improvment in accuracy is found to be 0.0039"
      ]
    },
    {
      "cell_type": "markdown",
      "metadata": {},
      "source": [
        "<h4>2nd Answer</h4>\n",
        "Increasing the number of augmentations from each sample can sometimes improve model accuracy, but it's important to balance augmentation with overfitting. Augmentation introduces more diversity into the training data, which can help the model generalize better to unseen data. However, if you increase the number of augmentations excessively, it can lead to overfitting because the model may start memorizing the augmented data rather than learning meaningful patterns."
      ]
    },
    {
      "cell_type": "markdown",
      "metadata": {},
      "source": [
        "<h4>3rd Answer</h4>"
      ]
    },
    {
      "cell_type": "code",
      "execution_count": 29,
      "metadata": {},
      "outputs": [
        {
          "name": "stdout",
          "output_type": "stream",
          "text": [
            "Collecting opencv-python\n",
            "  Obtaining dependency information for opencv-python from https://files.pythonhosted.org/packages/38/d2/3e8c13ffc37ca5ebc6f382b242b44acb43eb489042e1728407ac3904e72f/opencv_python-4.8.1.78-cp37-abi3-win_amd64.whl.metadata\n",
            "  Downloading opencv_python-4.8.1.78-cp37-abi3-win_amd64.whl.metadata (20 kB)\n",
            "Requirement already satisfied: numpy>=1.21.2 in c:\\users\\uddin\\appdata\\local\\programs\\python\\python311\\lib\\site-packages (from opencv-python) (1.24.3)\n",
            "Downloading opencv_python-4.8.1.78-cp37-abi3-win_amd64.whl (38.1 MB)\n",
            "   ---------------------------------------- 0.0/38.1 MB ? eta -:--:--\n",
            "   ---------------------------------------- 0.0/38.1 MB 1.4 MB/s eta 0:00:28\n",
            "   ---------------------------------------- 0.2/38.1 MB 1.8 MB/s eta 0:00:21\n",
            "   ---------------------------------------- 0.2/38.1 MB 2.0 MB/s eta 0:00:20\n",
            "   ---------------------------------------- 0.3/38.1 MB 2.3 MB/s eta 0:00:17\n",
            "   ---------------------------------------- 0.4/38.1 MB 2.5 MB/s eta 0:00:16\n",
            "    --------------------------------------- 0.5/38.1 MB 2.3 MB/s eta 0:00:17\n",
            "    --------------------------------------- 0.6/38.1 MB 2.3 MB/s eta 0:00:17\n",
            "    --------------------------------------- 0.7/38.1 MB 2.3 MB/s eta 0:00:17\n",
            "    --------------------------------------- 0.7/38.1 MB 2.2 MB/s eta 0:00:17\n",
            "    --------------------------------------- 0.7/38.1 MB 2.2 MB/s eta 0:00:17\n",
            "    --------------------------------------- 0.9/38.1 MB 2.0 MB/s eta 0:00:19\n",
            "   - -------------------------------------- 1.1/38.1 MB 2.2 MB/s eta 0:00:18\n",
            "   - -------------------------------------- 1.3/38.1 MB 2.4 MB/s eta 0:00:16\n",
            "   - -------------------------------------- 1.4/38.1 MB 2.5 MB/s eta 0:00:15\n",
            "   - -------------------------------------- 1.5/38.1 MB 2.3 MB/s eta 0:00:16\n",
            "   - -------------------------------------- 1.6/38.1 MB 2.4 MB/s eta 0:00:16\n",
            "   - -------------------------------------- 1.7/38.1 MB 2.5 MB/s eta 0:00:15\n",
            "   - -------------------------------------- 1.8/38.1 MB 2.3 MB/s eta 0:00:16\n",
            "   -- ------------------------------------- 1.9/38.1 MB 2.4 MB/s eta 0:00:16\n",
            "   -- ------------------------------------- 2.1/38.1 MB 2.4 MB/s eta 0:00:15\n",
            "   -- ------------------------------------- 2.1/38.1 MB 2.3 MB/s eta 0:00:16\n",
            "   -- ------------------------------------- 2.2/38.1 MB 2.3 MB/s eta 0:00:16\n",
            "   -- ------------------------------------- 2.3/38.1 MB 2.3 MB/s eta 0:00:16\n",
            "   -- ------------------------------------- 2.4/38.1 MB 2.4 MB/s eta 0:00:15\n",
            "   -- ------------------------------------- 2.5/38.1 MB 2.3 MB/s eta 0:00:16\n",
            "   -- ------------------------------------- 2.7/38.1 MB 2.4 MB/s eta 0:00:15\n",
            "   -- ------------------------------------- 2.8/38.1 MB 2.4 MB/s eta 0:00:15\n",
            "   --- ------------------------------------ 2.9/38.1 MB 2.5 MB/s eta 0:00:15\n",
            "   --- ------------------------------------ 3.1/38.1 MB 2.4 MB/s eta 0:00:15\n",
            "   --- ------------------------------------ 3.2/38.1 MB 2.4 MB/s eta 0:00:15\n",
            "   --- ------------------------------------ 3.3/38.1 MB 2.5 MB/s eta 0:00:15\n",
            "   --- ------------------------------------ 3.3/38.1 MB 2.4 MB/s eta 0:00:15\n",
            "   --- ------------------------------------ 3.5/38.1 MB 2.5 MB/s eta 0:00:15\n",
            "   --- ------------------------------------ 3.6/38.1 MB 2.5 MB/s eta 0:00:14\n",
            "   --- ------------------------------------ 3.8/38.1 MB 2.5 MB/s eta 0:00:14\n",
            "   ---- ----------------------------------- 4.0/38.1 MB 2.5 MB/s eta 0:00:14\n",
            "   ---- ----------------------------------- 4.1/38.1 MB 2.5 MB/s eta 0:00:14\n",
            "   ---- ----------------------------------- 4.2/38.1 MB 2.5 MB/s eta 0:00:14\n",
            "   ---- ----------------------------------- 4.3/38.1 MB 2.5 MB/s eta 0:00:14\n",
            "   ---- ----------------------------------- 4.4/38.1 MB 2.5 MB/s eta 0:00:14\n",
            "   ---- ----------------------------------- 4.5/38.1 MB 2.6 MB/s eta 0:00:14\n",
            "   ---- ----------------------------------- 4.6/38.1 MB 2.5 MB/s eta 0:00:14\n",
            "   ---- ----------------------------------- 4.6/38.1 MB 2.5 MB/s eta 0:00:14\n",
            "   ---- ----------------------------------- 4.7/38.1 MB 2.5 MB/s eta 0:00:14\n",
            "   ----- ---------------------------------- 4.8/38.1 MB 2.5 MB/s eta 0:00:14\n",
            "   ----- ---------------------------------- 4.9/38.1 MB 2.5 MB/s eta 0:00:14\n",
            "   ----- ---------------------------------- 5.0/38.1 MB 2.4 MB/s eta 0:00:14\n",
            "   ----- ---------------------------------- 5.0/38.1 MB 2.4 MB/s eta 0:00:14\n",
            "   ----- ---------------------------------- 5.1/38.1 MB 2.4 MB/s eta 0:00:14\n",
            "   ----- ---------------------------------- 5.2/38.1 MB 2.4 MB/s eta 0:00:14\n",
            "   ----- ---------------------------------- 5.2/38.1 MB 2.4 MB/s eta 0:00:14\n",
            "   ----- ---------------------------------- 5.3/38.1 MB 2.4 MB/s eta 0:00:14\n",
            "   ----- ---------------------------------- 5.3/38.1 MB 2.3 MB/s eta 0:00:15\n",
            "   ----- ---------------------------------- 5.4/38.1 MB 2.3 MB/s eta 0:00:15\n",
            "   ----- ---------------------------------- 5.4/38.1 MB 2.3 MB/s eta 0:00:15\n",
            "   ----- ---------------------------------- 5.5/38.1 MB 2.3 MB/s eta 0:00:15\n",
            "   ----- ---------------------------------- 5.6/38.1 MB 2.3 MB/s eta 0:00:15\n",
            "   ----- ---------------------------------- 5.7/38.1 MB 2.3 MB/s eta 0:00:15\n",
            "   ------ --------------------------------- 5.8/38.1 MB 2.3 MB/s eta 0:00:15\n",
            "   ------ --------------------------------- 6.0/38.1 MB 2.3 MB/s eta 0:00:14\n",
            "   ------ --------------------------------- 6.1/38.1 MB 2.3 MB/s eta 0:00:14\n",
            "   ------ --------------------------------- 6.2/38.1 MB 2.3 MB/s eta 0:00:14\n",
            "   ------ --------------------------------- 6.2/38.1 MB 2.3 MB/s eta 0:00:14\n",
            "   ------ --------------------------------- 6.2/38.1 MB 2.3 MB/s eta 0:00:15\n",
            "   ------ --------------------------------- 6.3/38.1 MB 2.2 MB/s eta 0:00:15\n",
            "   ------ --------------------------------- 6.5/38.1 MB 2.3 MB/s eta 0:00:14\n",
            "   ------ --------------------------------- 6.6/38.1 MB 2.3 MB/s eta 0:00:14\n",
            "   ------- -------------------------------- 6.7/38.1 MB 2.3 MB/s eta 0:00:14\n",
            "   ------- -------------------------------- 6.8/38.1 MB 2.3 MB/s eta 0:00:14\n",
            "   ------- -------------------------------- 6.8/38.1 MB 2.3 MB/s eta 0:00:14\n",
            "   ------- -------------------------------- 6.9/38.1 MB 2.2 MB/s eta 0:00:14\n",
            "   ------- -------------------------------- 7.0/38.1 MB 2.3 MB/s eta 0:00:14\n",
            "   ------- -------------------------------- 7.2/38.1 MB 2.3 MB/s eta 0:00:14\n",
            "   ------- -------------------------------- 7.4/38.1 MB 2.3 MB/s eta 0:00:14\n",
            "   ------- -------------------------------- 7.6/38.1 MB 2.3 MB/s eta 0:00:14\n",
            "   -------- ------------------------------- 7.7/38.1 MB 2.3 MB/s eta 0:00:13\n",
            "   -------- ------------------------------- 7.8/38.1 MB 2.3 MB/s eta 0:00:13\n",
            "   -------- ------------------------------- 7.8/38.1 MB 2.3 MB/s eta 0:00:14\n",
            "   -------- ------------------------------- 7.9/38.1 MB 2.3 MB/s eta 0:00:14\n",
            "   -------- ------------------------------- 7.9/38.1 MB 2.3 MB/s eta 0:00:14\n",
            "   -------- ------------------------------- 8.0/38.1 MB 2.3 MB/s eta 0:00:14\n",
            "   -------- ------------------------------- 8.0/38.1 MB 2.3 MB/s eta 0:00:14\n",
            "   -------- ------------------------------- 8.1/38.1 MB 2.2 MB/s eta 0:00:14\n",
            "   -------- ------------------------------- 8.1/38.1 MB 2.2 MB/s eta 0:00:14\n",
            "   -------- ------------------------------- 8.2/38.1 MB 2.2 MB/s eta 0:00:14\n",
            "   -------- ------------------------------- 8.2/38.1 MB 2.2 MB/s eta 0:00:14\n",
            "   -------- ------------------------------- 8.3/38.1 MB 2.2 MB/s eta 0:00:14\n",
            "   -------- ------------------------------- 8.4/38.1 MB 2.2 MB/s eta 0:00:14\n",
            "   -------- ------------------------------- 8.5/38.1 MB 2.2 MB/s eta 0:00:14\n",
            "   --------- ------------------------------ 8.6/38.1 MB 2.2 MB/s eta 0:00:14\n",
            "   --------- ------------------------------ 8.6/38.1 MB 2.2 MB/s eta 0:00:14\n",
            "   --------- ------------------------------ 8.7/38.1 MB 2.2 MB/s eta 0:00:14\n",
            "   --------- ------------------------------ 8.7/38.1 MB 2.2 MB/s eta 0:00:14\n",
            "   --------- ------------------------------ 8.8/38.1 MB 2.2 MB/s eta 0:00:14\n",
            "   --------- ------------------------------ 8.8/38.1 MB 2.2 MB/s eta 0:00:14\n",
            "   --------- ------------------------------ 8.9/38.1 MB 2.2 MB/s eta 0:00:14\n",
            "   --------- ------------------------------ 9.0/38.1 MB 2.1 MB/s eta 0:00:14\n",
            "   --------- ------------------------------ 9.0/38.1 MB 2.1 MB/s eta 0:00:14\n",
            "   --------- ------------------------------ 9.1/38.1 MB 2.1 MB/s eta 0:00:14\n",
            "   --------- ------------------------------ 9.2/38.1 MB 2.1 MB/s eta 0:00:14\n",
            "   --------- ------------------------------ 9.2/38.1 MB 2.1 MB/s eta 0:00:14\n",
            "   --------- ------------------------------ 9.2/38.1 MB 2.1 MB/s eta 0:00:14\n",
            "   --------- ------------------------------ 9.3/38.1 MB 2.1 MB/s eta 0:00:14\n",
            "   --------- ------------------------------ 9.3/38.1 MB 2.1 MB/s eta 0:00:14\n",
            "   --------- ------------------------------ 9.4/38.1 MB 2.1 MB/s eta 0:00:14\n",
            "   ---------- ----------------------------- 9.6/38.1 MB 2.1 MB/s eta 0:00:14\n",
            "   ---------- ----------------------------- 9.7/38.1 MB 2.1 MB/s eta 0:00:14\n",
            "   ---------- ----------------------------- 9.9/38.1 MB 2.1 MB/s eta 0:00:14\n",
            "   ---------- ----------------------------- 10.1/38.1 MB 2.1 MB/s eta 0:00:14\n",
            "   ---------- ----------------------------- 10.3/38.1 MB 2.2 MB/s eta 0:00:13\n",
            "   ---------- ----------------------------- 10.4/38.1 MB 2.2 MB/s eta 0:00:13\n",
            "   ----------- ---------------------------- 10.5/38.1 MB 2.2 MB/s eta 0:00:13\n",
            "   ----------- ---------------------------- 10.5/38.1 MB 2.2 MB/s eta 0:00:13\n",
            "   ----------- ---------------------------- 10.5/38.1 MB 2.2 MB/s eta 0:00:13\n",
            "   ----------- ---------------------------- 10.5/38.1 MB 2.2 MB/s eta 0:00:13\n",
            "   ----------- ---------------------------- 10.6/38.1 MB 2.1 MB/s eta 0:00:14\n",
            "   ----------- ---------------------------- 10.8/38.1 MB 2.1 MB/s eta 0:00:13\n",
            "   ----------- ---------------------------- 10.9/38.1 MB 2.1 MB/s eta 0:00:13\n",
            "   ----------- ---------------------------- 11.0/38.1 MB 2.1 MB/s eta 0:00:13\n",
            "   ----------- ---------------------------- 11.1/38.1 MB 2.2 MB/s eta 0:00:13\n",
            "   ----------- ---------------------------- 11.2/38.1 MB 2.1 MB/s eta 0:00:13\n",
            "   ----------- ---------------------------- 11.2/38.1 MB 2.1 MB/s eta 0:00:13\n",
            "   ----------- ---------------------------- 11.4/38.1 MB 2.1 MB/s eta 0:00:13\n",
            "   ------------ --------------------------- 11.5/38.1 MB 2.1 MB/s eta 0:00:13\n",
            "   ------------ --------------------------- 11.6/38.1 MB 2.1 MB/s eta 0:00:13\n",
            "   ------------ --------------------------- 11.6/38.1 MB 2.1 MB/s eta 0:00:13\n",
            "   ------------ --------------------------- 11.7/38.1 MB 2.1 MB/s eta 0:00:13\n",
            "   ------------ --------------------------- 11.8/38.1 MB 2.1 MB/s eta 0:00:13\n",
            "   ------------ --------------------------- 11.8/38.1 MB 2.1 MB/s eta 0:00:13\n",
            "   ------------ --------------------------- 11.9/38.1 MB 2.1 MB/s eta 0:00:13\n",
            "   ------------ --------------------------- 12.0/38.1 MB 2.1 MB/s eta 0:00:13\n",
            "   ------------ --------------------------- 12.0/38.1 MB 2.1 MB/s eta 0:00:13\n",
            "   ------------ --------------------------- 12.1/38.1 MB 2.0 MB/s eta 0:00:13\n",
            "   ------------ --------------------------- 12.2/38.1 MB 2.0 MB/s eta 0:00:13\n",
            "   ------------ --------------------------- 12.3/38.1 MB 2.0 MB/s eta 0:00:13\n",
            "   ------------ --------------------------- 12.3/38.1 MB 2.0 MB/s eta 0:00:13\n",
            "   ------------- -------------------------- 12.4/38.1 MB 2.0 MB/s eta 0:00:13\n",
            "   ------------- -------------------------- 12.6/38.1 MB 2.0 MB/s eta 0:00:13\n",
            "   ------------- -------------------------- 12.7/38.1 MB 2.1 MB/s eta 0:00:13\n",
            "   ------------- -------------------------- 12.8/38.1 MB 2.0 MB/s eta 0:00:13\n",
            "   ------------- -------------------------- 12.9/38.1 MB 2.0 MB/s eta 0:00:13\n",
            "   ------------- -------------------------- 13.0/38.1 MB 2.0 MB/s eta 0:00:13\n",
            "   ------------- -------------------------- 13.1/38.1 MB 2.0 MB/s eta 0:00:13\n",
            "   ------------- -------------------------- 13.3/38.1 MB 2.0 MB/s eta 0:00:13\n",
            "   -------------- ------------------------- 13.4/38.1 MB 2.0 MB/s eta 0:00:13\n",
            "   -------------- ------------------------- 13.5/38.1 MB 2.0 MB/s eta 0:00:13\n",
            "   -------------- ------------------------- 13.5/38.1 MB 2.0 MB/s eta 0:00:13\n",
            "   -------------- ------------------------- 13.6/38.1 MB 2.0 MB/s eta 0:00:13\n",
            "   -------------- ------------------------- 13.7/38.1 MB 2.0 MB/s eta 0:00:13\n",
            "   -------------- ------------------------- 13.8/38.1 MB 2.0 MB/s eta 0:00:13\n",
            "   -------------- ------------------------- 13.9/38.1 MB 2.0 MB/s eta 0:00:13\n",
            "   -------------- ------------------------- 14.0/38.1 MB 2.0 MB/s eta 0:00:13\n",
            "   -------------- ------------------------- 14.1/38.1 MB 2.0 MB/s eta 0:00:12\n",
            "   -------------- ------------------------- 14.2/38.1 MB 2.0 MB/s eta 0:00:13\n",
            "   --------------- ------------------------ 14.3/38.1 MB 2.0 MB/s eta 0:00:12\n",
            "   --------------- ------------------------ 14.4/38.1 MB 2.0 MB/s eta 0:00:12\n",
            "   --------------- ------------------------ 14.7/38.1 MB 2.0 MB/s eta 0:00:12\n",
            "   --------------- ------------------------ 14.8/38.1 MB 2.0 MB/s eta 0:00:12\n",
            "   --------------- ------------------------ 14.9/38.1 MB 2.0 MB/s eta 0:00:12\n",
            "   --------------- ------------------------ 15.0/38.1 MB 2.0 MB/s eta 0:00:12\n",
            "   --------------- ------------------------ 15.1/38.1 MB 2.0 MB/s eta 0:00:12\n",
            "   ---------------- ----------------------- 15.2/38.1 MB 2.1 MB/s eta 0:00:12\n",
            "   ---------------- ----------------------- 15.4/38.1 MB 2.1 MB/s eta 0:00:11\n",
            "   ---------------- ----------------------- 15.5/38.1 MB 2.1 MB/s eta 0:00:11\n",
            "   ---------------- ----------------------- 15.8/38.1 MB 2.2 MB/s eta 0:00:11\n",
            "   ---------------- ----------------------- 15.9/38.1 MB 2.2 MB/s eta 0:00:11\n",
            "   ---------------- ----------------------- 15.9/38.1 MB 2.2 MB/s eta 0:00:11\n",
            "   ---------------- ----------------------- 15.9/38.1 MB 2.2 MB/s eta 0:00:11\n",
            "   ---------------- ----------------------- 15.9/38.1 MB 2.1 MB/s eta 0:00:11\n",
            "   ---------------- ----------------------- 15.9/38.1 MB 2.1 MB/s eta 0:00:11\n",
            "   ---------------- ----------------------- 16.0/38.1 MB 2.1 MB/s eta 0:00:11\n",
            "   ---------------- ----------------------- 16.2/38.1 MB 2.1 MB/s eta 0:00:11\n",
            "   ----------------- ---------------------- 16.3/38.1 MB 2.1 MB/s eta 0:00:11\n",
            "   ----------------- ---------------------- 16.4/38.1 MB 2.1 MB/s eta 0:00:11\n",
            "   ----------------- ---------------------- 16.6/38.1 MB 2.1 MB/s eta 0:00:10\n",
            "   ----------------- ---------------------- 16.7/38.1 MB 2.1 MB/s eta 0:00:10\n",
            "   ----------------- ---------------------- 16.8/38.1 MB 2.1 MB/s eta 0:00:10\n",
            "   ----------------- ---------------------- 16.9/38.1 MB 2.1 MB/s eta 0:00:10\n",
            "   ----------------- ---------------------- 17.1/38.1 MB 2.2 MB/s eta 0:00:10\n",
            "   ------------------ --------------------- 17.2/38.1 MB 2.2 MB/s eta 0:00:10\n",
            "   ------------------ --------------------- 17.3/38.1 MB 2.2 MB/s eta 0:00:10\n",
            "   ------------------ --------------------- 17.3/38.1 MB 2.2 MB/s eta 0:00:10\n",
            "   ------------------ --------------------- 17.3/38.1 MB 2.1 MB/s eta 0:00:10\n",
            "   ------------------ --------------------- 17.4/38.1 MB 2.1 MB/s eta 0:00:10\n",
            "   ------------------ --------------------- 17.6/38.1 MB 2.1 MB/s eta 0:00:10\n",
            "   ------------------ --------------------- 17.6/38.1 MB 2.1 MB/s eta 0:00:10\n",
            "   ------------------ --------------------- 17.7/38.1 MB 2.1 MB/s eta 0:00:10\n",
            "   ------------------ --------------------- 17.7/38.1 MB 2.1 MB/s eta 0:00:10\n",
            "   ------------------ --------------------- 18.0/38.1 MB 2.1 MB/s eta 0:00:10\n",
            "   ------------------- -------------------- 18.1/38.1 MB 2.1 MB/s eta 0:00:10\n",
            "   ------------------- -------------------- 18.3/38.1 MB 2.2 MB/s eta 0:00:10\n",
            "   ------------------- -------------------- 18.5/38.1 MB 2.2 MB/s eta 0:00:09\n",
            "   ------------------- -------------------- 18.6/38.1 MB 2.2 MB/s eta 0:00:09\n",
            "   ------------------- -------------------- 18.8/38.1 MB 2.2 MB/s eta 0:00:09\n",
            "   ------------------- -------------------- 18.8/38.1 MB 2.2 MB/s eta 0:00:09\n",
            "   ------------------- -------------------- 18.9/38.1 MB 2.2 MB/s eta 0:00:09\n",
            "   ------------------- -------------------- 18.9/38.1 MB 2.2 MB/s eta 0:00:09\n",
            "   ------------------- -------------------- 19.0/38.1 MB 2.2 MB/s eta 0:00:09\n",
            "   ------------------- -------------------- 19.0/38.1 MB 2.2 MB/s eta 0:00:09\n",
            "   ------------------- -------------------- 19.0/38.1 MB 2.2 MB/s eta 0:00:09\n",
            "   -------------------- ------------------- 19.0/38.1 MB 2.2 MB/s eta 0:00:09\n",
            "   -------------------- ------------------- 19.1/38.1 MB 2.2 MB/s eta 0:00:09\n",
            "   -------------------- ------------------- 19.1/38.1 MB 2.2 MB/s eta 0:00:09\n",
            "   -------------------- ------------------- 19.1/38.1 MB 2.2 MB/s eta 0:00:09\n",
            "   -------------------- ------------------- 19.2/38.1 MB 2.2 MB/s eta 0:00:09\n",
            "   -------------------- ------------------- 19.3/38.1 MB 2.2 MB/s eta 0:00:09\n",
            "   -------------------- ------------------- 19.3/38.1 MB 2.2 MB/s eta 0:00:09\n",
            "   -------------------- ------------------- 19.4/38.1 MB 2.2 MB/s eta 0:00:09\n",
            "   -------------------- ------------------- 19.5/38.1 MB 2.2 MB/s eta 0:00:09\n",
            "   -------------------- ------------------- 19.6/38.1 MB 2.2 MB/s eta 0:00:09\n",
            "   -------------------- ------------------- 19.6/38.1 MB 2.2 MB/s eta 0:00:09\n",
            "   -------------------- ------------------- 19.7/38.1 MB 2.2 MB/s eta 0:00:09\n",
            "   -------------------- ------------------- 19.8/38.1 MB 2.2 MB/s eta 0:00:09\n",
            "   -------------------- ------------------- 19.9/38.1 MB 2.2 MB/s eta 0:00:09\n",
            "   -------------------- ------------------- 20.0/38.1 MB 2.2 MB/s eta 0:00:09\n",
            "   --------------------- ------------------ 20.0/38.1 MB 2.2 MB/s eta 0:00:09\n",
            "   --------------------- ------------------ 20.1/38.1 MB 2.2 MB/s eta 0:00:09\n",
            "   --------------------- ------------------ 20.2/38.1 MB 2.1 MB/s eta 0:00:09\n",
            "   --------------------- ------------------ 20.2/38.1 MB 2.1 MB/s eta 0:00:09\n",
            "   --------------------- ------------------ 20.3/38.1 MB 2.1 MB/s eta 0:00:09\n",
            "   --------------------- ------------------ 20.4/38.1 MB 2.1 MB/s eta 0:00:09\n",
            "   --------------------- ------------------ 20.5/38.1 MB 2.1 MB/s eta 0:00:09\n",
            "   --------------------- ------------------ 20.6/38.1 MB 2.1 MB/s eta 0:00:09\n",
            "   --------------------- ------------------ 20.7/38.1 MB 2.1 MB/s eta 0:00:09\n",
            "   --------------------- ------------------ 20.7/38.1 MB 2.1 MB/s eta 0:00:09\n",
            "   --------------------- ------------------ 20.8/38.1 MB 2.1 MB/s eta 0:00:09\n",
            "   --------------------- ------------------ 20.9/38.1 MB 2.1 MB/s eta 0:00:09\n",
            "   --------------------- ------------------ 20.9/38.1 MB 2.1 MB/s eta 0:00:09\n",
            "   ---------------------- ----------------- 21.0/38.1 MB 2.1 MB/s eta 0:00:09\n",
            "   ---------------------- ----------------- 21.1/38.1 MB 2.1 MB/s eta 0:00:09\n",
            "   ---------------------- ----------------- 21.1/38.1 MB 2.1 MB/s eta 0:00:09\n",
            "   ---------------------- ----------------- 21.3/38.1 MB 2.1 MB/s eta 0:00:09\n",
            "   ---------------------- ----------------- 21.4/38.1 MB 2.1 MB/s eta 0:00:09\n",
            "   ---------------------- ----------------- 21.4/38.1 MB 2.1 MB/s eta 0:00:09\n",
            "   ---------------------- ----------------- 21.5/38.1 MB 2.1 MB/s eta 0:00:08\n",
            "   ---------------------- ----------------- 21.5/38.1 MB 2.1 MB/s eta 0:00:08\n",
            "   ---------------------- ----------------- 21.5/38.1 MB 2.1 MB/s eta 0:00:08\n",
            "   ---------------------- ----------------- 21.6/38.1 MB 2.1 MB/s eta 0:00:08\n",
            "   ---------------------- ----------------- 21.7/38.1 MB 2.1 MB/s eta 0:00:08\n",
            "   ---------------------- ----------------- 21.8/38.1 MB 2.1 MB/s eta 0:00:08\n",
            "   ---------------------- ----------------- 21.9/38.1 MB 2.1 MB/s eta 0:00:08\n",
            "   ----------------------- ---------------- 22.0/38.1 MB 2.1 MB/s eta 0:00:08\n",
            "   ----------------------- ---------------- 22.1/38.1 MB 2.1 MB/s eta 0:00:08\n",
            "   ----------------------- ---------------- 22.2/38.1 MB 2.1 MB/s eta 0:00:08\n",
            "   ----------------------- ---------------- 22.3/38.1 MB 2.1 MB/s eta 0:00:08\n",
            "   ----------------------- ---------------- 22.3/38.1 MB 2.1 MB/s eta 0:00:08\n",
            "   ----------------------- ---------------- 22.3/38.1 MB 2.1 MB/s eta 0:00:08\n",
            "   ----------------------- ---------------- 22.4/38.1 MB 2.1 MB/s eta 0:00:08\n",
            "   ----------------------- ---------------- 22.4/38.1 MB 2.1 MB/s eta 0:00:08\n",
            "   ----------------------- ---------------- 22.5/38.1 MB 2.1 MB/s eta 0:00:08\n",
            "   ----------------------- ---------------- 22.5/38.1 MB 2.0 MB/s eta 0:00:08\n",
            "   ----------------------- ---------------- 22.5/38.1 MB 2.0 MB/s eta 0:00:08\n",
            "   ----------------------- ---------------- 22.6/38.1 MB 2.0 MB/s eta 0:00:08\n",
            "   ----------------------- ---------------- 22.6/38.1 MB 2.0 MB/s eta 0:00:08\n",
            "   ----------------------- ---------------- 22.8/38.1 MB 2.0 MB/s eta 0:00:08\n",
            "   ------------------------ --------------- 22.9/38.1 MB 2.0 MB/s eta 0:00:08\n",
            "   ------------------------ --------------- 22.9/38.1 MB 2.0 MB/s eta 0:00:08\n",
            "   ------------------------ --------------- 22.9/38.1 MB 2.0 MB/s eta 0:00:08\n",
            "   ------------------------ --------------- 22.9/38.1 MB 2.0 MB/s eta 0:00:08\n",
            "   ------------------------ --------------- 23.0/38.1 MB 2.0 MB/s eta 0:00:08\n",
            "   ------------------------ --------------- 23.0/38.1 MB 2.0 MB/s eta 0:00:08\n",
            "   ------------------------ --------------- 23.0/38.1 MB 1.9 MB/s eta 0:00:08\n",
            "   ------------------------ --------------- 23.1/38.1 MB 1.9 MB/s eta 0:00:08\n",
            "   ------------------------ --------------- 23.1/38.1 MB 1.9 MB/s eta 0:00:08\n",
            "   ------------------------ --------------- 23.2/38.1 MB 1.9 MB/s eta 0:00:08\n",
            "   ------------------------ --------------- 23.2/38.1 MB 1.9 MB/s eta 0:00:08\n",
            "   ------------------------ --------------- 23.3/38.1 MB 1.9 MB/s eta 0:00:08\n",
            "   ------------------------ --------------- 23.3/38.1 MB 1.9 MB/s eta 0:00:08\n",
            "   ------------------------ --------------- 23.3/38.1 MB 1.9 MB/s eta 0:00:08\n",
            "   ------------------------ --------------- 23.4/38.1 MB 1.9 MB/s eta 0:00:08\n",
            "   ------------------------ --------------- 23.4/38.1 MB 1.9 MB/s eta 0:00:08\n",
            "   ------------------------ --------------- 23.4/38.1 MB 1.8 MB/s eta 0:00:08\n",
            "   ------------------------ --------------- 23.4/38.1 MB 1.8 MB/s eta 0:00:08\n",
            "   ------------------------ --------------- 23.5/38.1 MB 1.8 MB/s eta 0:00:09\n",
            "   ------------------------ --------------- 23.5/38.1 MB 1.8 MB/s eta 0:00:09\n",
            "   ------------------------ --------------- 23.5/38.1 MB 1.8 MB/s eta 0:00:09\n",
            "   ------------------------ --------------- 23.5/38.1 MB 1.8 MB/s eta 0:00:09\n",
            "   ------------------------ --------------- 23.6/38.1 MB 1.8 MB/s eta 0:00:09\n",
            "   ------------------------ --------------- 23.6/38.1 MB 1.8 MB/s eta 0:00:09\n",
            "   ------------------------ --------------- 23.6/38.1 MB 1.8 MB/s eta 0:00:09\n",
            "   ------------------------ --------------- 23.7/38.1 MB 1.8 MB/s eta 0:00:09\n",
            "   ------------------------ --------------- 23.7/38.1 MB 1.8 MB/s eta 0:00:09\n",
            "   ------------------------ --------------- 23.8/38.1 MB 1.8 MB/s eta 0:00:09\n",
            "   ------------------------- -------------- 23.8/38.1 MB 1.7 MB/s eta 0:00:09\n",
            "   ------------------------- -------------- 23.8/38.1 MB 1.7 MB/s eta 0:00:09\n",
            "   ------------------------- -------------- 23.8/38.1 MB 1.7 MB/s eta 0:00:09\n",
            "   ------------------------- -------------- 23.8/38.1 MB 1.7 MB/s eta 0:00:09\n",
            "   ------------------------- -------------- 23.8/38.1 MB 1.7 MB/s eta 0:00:09\n",
            "   ------------------------- -------------- 23.8/38.1 MB 1.7 MB/s eta 0:00:09\n",
            "   ------------------------- -------------- 23.9/38.1 MB 1.7 MB/s eta 0:00:09\n",
            "   ------------------------- -------------- 23.9/38.1 MB 1.7 MB/s eta 0:00:09\n",
            "   ------------------------- -------------- 24.0/38.1 MB 1.7 MB/s eta 0:00:09\n",
            "   ------------------------- -------------- 24.0/38.1 MB 1.7 MB/s eta 0:00:09\n",
            "   ------------------------- -------------- 24.0/38.1 MB 1.7 MB/s eta 0:00:09\n",
            "   ------------------------- -------------- 24.1/38.1 MB 1.6 MB/s eta 0:00:09\n",
            "   ------------------------- -------------- 24.1/38.1 MB 1.6 MB/s eta 0:00:09\n",
            "   ------------------------- -------------- 24.2/38.1 MB 1.6 MB/s eta 0:00:09\n",
            "   ------------------------- -------------- 24.3/38.1 MB 1.6 MB/s eta 0:00:09\n",
            "   ------------------------- -------------- 24.3/38.1 MB 1.6 MB/s eta 0:00:09\n",
            "   ------------------------- -------------- 24.4/38.1 MB 1.6 MB/s eta 0:00:09\n",
            "   ------------------------- -------------- 24.4/38.1 MB 1.6 MB/s eta 0:00:09\n",
            "   ------------------------- -------------- 24.5/38.1 MB 1.6 MB/s eta 0:00:09\n",
            "   ------------------------- -------------- 24.5/38.1 MB 1.6 MB/s eta 0:00:09\n",
            "   ------------------------- -------------- 24.6/38.1 MB 1.6 MB/s eta 0:00:09\n",
            "   ------------------------- -------------- 24.6/38.1 MB 1.6 MB/s eta 0:00:09\n",
            "   ------------------------- -------------- 24.7/38.1 MB 1.6 MB/s eta 0:00:09\n",
            "   ------------------------- -------------- 24.7/38.1 MB 1.6 MB/s eta 0:00:09\n",
            "   -------------------------- ------------- 24.8/38.1 MB 1.6 MB/s eta 0:00:09\n",
            "   -------------------------- ------------- 24.8/38.1 MB 1.6 MB/s eta 0:00:09\n",
            "   -------------------------- ------------- 24.9/38.1 MB 1.6 MB/s eta 0:00:09\n",
            "   -------------------------- ------------- 24.9/38.1 MB 1.5 MB/s eta 0:00:09\n",
            "   -------------------------- ------------- 25.0/38.1 MB 1.5 MB/s eta 0:00:09\n",
            "   -------------------------- ------------- 25.0/38.1 MB 1.5 MB/s eta 0:00:09\n",
            "   -------------------------- ------------- 25.1/38.1 MB 1.5 MB/s eta 0:00:09\n",
            "   -------------------------- ------------- 25.1/38.1 MB 1.5 MB/s eta 0:00:09\n",
            "   -------------------------- ------------- 25.2/38.1 MB 1.5 MB/s eta 0:00:09\n",
            "   -------------------------- ------------- 25.2/38.1 MB 1.5 MB/s eta 0:00:09\n",
            "   -------------------------- ------------- 25.2/38.1 MB 1.5 MB/s eta 0:00:09\n",
            "   -------------------------- ------------- 25.2/38.1 MB 1.5 MB/s eta 0:00:09\n",
            "   -------------------------- ------------- 25.2/38.1 MB 1.5 MB/s eta 0:00:09\n",
            "   -------------------------- ------------- 25.3/38.1 MB 1.5 MB/s eta 0:00:09\n",
            "   -------------------------- ------------- 25.3/38.1 MB 1.5 MB/s eta 0:00:09\n",
            "   -------------------------- ------------- 25.4/38.1 MB 1.5 MB/s eta 0:00:09\n",
            "   -------------------------- ------------- 25.4/38.1 MB 1.5 MB/s eta 0:00:09\n",
            "   -------------------------- ------------- 25.4/38.1 MB 1.5 MB/s eta 0:00:09\n",
            "   -------------------------- ------------- 25.4/38.1 MB 1.4 MB/s eta 0:00:09\n",
            "   -------------------------- ------------- 25.4/38.1 MB 1.4 MB/s eta 0:00:09\n",
            "   -------------------------- ------------- 25.5/38.1 MB 1.4 MB/s eta 0:00:09\n",
            "   -------------------------- ------------- 25.5/38.1 MB 1.4 MB/s eta 0:00:09\n",
            "   -------------------------- ------------- 25.6/38.1 MB 1.4 MB/s eta 0:00:09\n",
            "   -------------------------- ------------- 25.6/38.1 MB 1.4 MB/s eta 0:00:09\n",
            "   -------------------------- ------------- 25.7/38.1 MB 1.4 MB/s eta 0:00:09\n",
            "   -------------------------- ------------- 25.7/38.1 MB 1.4 MB/s eta 0:00:09\n",
            "   --------------------------- ------------ 25.7/38.1 MB 1.4 MB/s eta 0:00:09\n",
            "   --------------------------- ------------ 25.8/38.1 MB 1.4 MB/s eta 0:00:09\n",
            "   --------------------------- ------------ 25.8/38.1 MB 1.4 MB/s eta 0:00:09\n",
            "   --------------------------- ------------ 25.9/38.1 MB 1.4 MB/s eta 0:00:09\n",
            "   --------------------------- ------------ 25.9/38.1 MB 1.4 MB/s eta 0:00:09\n",
            "   --------------------------- ------------ 26.0/38.1 MB 1.4 MB/s eta 0:00:09\n",
            "   --------------------------- ------------ 26.0/38.1 MB 1.4 MB/s eta 0:00:09\n",
            "   --------------------------- ------------ 26.1/38.1 MB 1.4 MB/s eta 0:00:09\n",
            "   --------------------------- ------------ 26.1/38.1 MB 1.4 MB/s eta 0:00:09\n",
            "   --------------------------- ------------ 26.2/38.1 MB 1.4 MB/s eta 0:00:09\n",
            "   --------------------------- ------------ 26.2/38.1 MB 1.4 MB/s eta 0:00:09\n",
            "   --------------------------- ------------ 26.3/38.1 MB 1.4 MB/s eta 0:00:09\n",
            "   --------------------------- ------------ 26.3/38.1 MB 1.4 MB/s eta 0:00:09\n",
            "   --------------------------- ------------ 26.4/38.1 MB 1.4 MB/s eta 0:00:09\n",
            "   --------------------------- ------------ 26.4/38.1 MB 1.3 MB/s eta 0:00:09\n",
            "   --------------------------- ------------ 26.4/38.1 MB 1.3 MB/s eta 0:00:09\n",
            "   --------------------------- ------------ 26.5/38.1 MB 1.3 MB/s eta 0:00:09\n",
            "   --------------------------- ------------ 26.5/38.1 MB 1.3 MB/s eta 0:00:09\n",
            "   --------------------------- ------------ 26.5/38.1 MB 1.3 MB/s eta 0:00:09\n",
            "   --------------------------- ------------ 26.5/38.1 MB 1.3 MB/s eta 0:00:09\n",
            "   --------------------------- ------------ 26.6/38.1 MB 1.3 MB/s eta 0:00:09\n",
            "   --------------------------- ------------ 26.6/38.1 MB 1.3 MB/s eta 0:00:09\n",
            "   ---------------------------- ----------- 26.7/38.1 MB 1.3 MB/s eta 0:00:09\n",
            "   ---------------------------- ----------- 26.8/38.1 MB 1.3 MB/s eta 0:00:09\n",
            "   ---------------------------- ----------- 26.9/38.1 MB 1.3 MB/s eta 0:00:09\n",
            "   ---------------------------- ----------- 26.9/38.1 MB 1.3 MB/s eta 0:00:09\n",
            "   ---------------------------- ----------- 27.0/38.1 MB 1.3 MB/s eta 0:00:09\n",
            "   ---------------------------- ----------- 27.1/38.1 MB 1.3 MB/s eta 0:00:09\n",
            "   ---------------------------- ----------- 27.1/38.1 MB 1.3 MB/s eta 0:00:09\n",
            "   ---------------------------- ----------- 27.1/38.1 MB 1.3 MB/s eta 0:00:09\n",
            "   ---------------------------- ----------- 27.2/38.1 MB 1.3 MB/s eta 0:00:09\n",
            "   ---------------------------- ----------- 27.3/38.1 MB 1.3 MB/s eta 0:00:09\n",
            "   ---------------------------- ----------- 27.3/38.1 MB 1.3 MB/s eta 0:00:09\n",
            "   ---------------------------- ----------- 27.4/38.1 MB 1.3 MB/s eta 0:00:09\n",
            "   ---------------------------- ----------- 27.4/38.1 MB 1.3 MB/s eta 0:00:09\n",
            "   ---------------------------- ----------- 27.5/38.1 MB 1.3 MB/s eta 0:00:09\n",
            "   ---------------------------- ----------- 27.5/38.1 MB 1.3 MB/s eta 0:00:09\n",
            "   ---------------------------- ----------- 27.5/38.1 MB 1.3 MB/s eta 0:00:09\n",
            "   ----------------------------- ---------- 27.6/38.1 MB 1.3 MB/s eta 0:00:09\n",
            "   ----------------------------- ---------- 27.8/38.1 MB 1.3 MB/s eta 0:00:09\n",
            "   ----------------------------- ---------- 27.9/38.1 MB 1.3 MB/s eta 0:00:09\n",
            "   ----------------------------- ---------- 28.0/38.1 MB 1.3 MB/s eta 0:00:08\n",
            "   ----------------------------- ---------- 28.2/38.1 MB 1.3 MB/s eta 0:00:08\n",
            "   ----------------------------- ---------- 28.3/38.1 MB 1.3 MB/s eta 0:00:08\n",
            "   ----------------------------- ---------- 28.5/38.1 MB 1.3 MB/s eta 0:00:08\n",
            "   ----------------------------- ---------- 28.5/38.1 MB 1.3 MB/s eta 0:00:08\n",
            "   ----------------------------- ---------- 28.5/38.1 MB 1.3 MB/s eta 0:00:08\n",
            "   ----------------------------- ---------- 28.5/38.1 MB 1.3 MB/s eta 0:00:08\n",
            "   ------------------------------ --------- 28.6/38.1 MB 1.2 MB/s eta 0:00:08\n",
            "   ------------------------------ --------- 28.8/38.1 MB 1.3 MB/s eta 0:00:08\n",
            "   ------------------------------ --------- 28.9/38.1 MB 1.2 MB/s eta 0:00:08\n",
            "   ------------------------------ --------- 28.9/38.1 MB 1.2 MB/s eta 0:00:08\n",
            "   ------------------------------ --------- 29.0/38.1 MB 1.2 MB/s eta 0:00:08\n",
            "   ------------------------------ --------- 29.1/38.1 MB 1.3 MB/s eta 0:00:08\n",
            "   ------------------------------ --------- 29.2/38.1 MB 1.3 MB/s eta 0:00:07\n",
            "   ------------------------------ --------- 29.3/38.1 MB 1.3 MB/s eta 0:00:07\n",
            "   ------------------------------ --------- 29.4/38.1 MB 1.3 MB/s eta 0:00:07\n",
            "   ------------------------------ --------- 29.5/38.1 MB 1.3 MB/s eta 0:00:07\n",
            "   ------------------------------- -------- 29.6/38.1 MB 1.3 MB/s eta 0:00:07\n",
            "   ------------------------------- -------- 29.6/38.1 MB 1.3 MB/s eta 0:00:07\n",
            "   ------------------------------- -------- 29.7/38.1 MB 1.3 MB/s eta 0:00:07\n",
            "   ------------------------------- -------- 29.9/38.1 MB 1.3 MB/s eta 0:00:07\n",
            "   ------------------------------- -------- 30.0/38.1 MB 1.3 MB/s eta 0:00:07\n",
            "   ------------------------------- -------- 30.1/38.1 MB 1.3 MB/s eta 0:00:07\n",
            "   ------------------------------- -------- 30.3/38.1 MB 1.3 MB/s eta 0:00:06\n",
            "   ------------------------------- -------- 30.4/38.1 MB 1.3 MB/s eta 0:00:06\n",
            "   -------------------------------- ------- 30.5/38.1 MB 1.3 MB/s eta 0:00:06\n",
            "   -------------------------------- ------- 30.5/38.1 MB 1.3 MB/s eta 0:00:06\n",
            "   -------------------------------- ------- 30.6/38.1 MB 1.3 MB/s eta 0:00:06\n",
            "   -------------------------------- ------- 30.8/38.1 MB 1.3 MB/s eta 0:00:06\n",
            "   -------------------------------- ------- 30.8/38.1 MB 1.3 MB/s eta 0:00:06\n",
            "   -------------------------------- ------- 30.8/38.1 MB 1.3 MB/s eta 0:00:06\n",
            "   -------------------------------- ------- 30.9/38.1 MB 1.3 MB/s eta 0:00:06\n",
            "   -------------------------------- ------- 31.0/38.1 MB 1.3 MB/s eta 0:00:06\n",
            "   -------------------------------- ------- 31.2/38.1 MB 1.3 MB/s eta 0:00:06\n",
            "   -------------------------------- ------- 31.3/38.1 MB 1.3 MB/s eta 0:00:06\n",
            "   -------------------------------- ------- 31.4/38.1 MB 1.3 MB/s eta 0:00:06\n",
            "   --------------------------------- ------ 31.4/38.1 MB 1.3 MB/s eta 0:00:05\n",
            "   --------------------------------- ------ 31.5/38.1 MB 1.3 MB/s eta 0:00:05\n",
            "   --------------------------------- ------ 31.6/38.1 MB 1.3 MB/s eta 0:00:05\n",
            "   --------------------------------- ------ 31.8/38.1 MB 1.3 MB/s eta 0:00:05\n",
            "   --------------------------------- ------ 31.9/38.1 MB 1.3 MB/s eta 0:00:05\n",
            "   --------------------------------- ------ 32.0/38.1 MB 1.3 MB/s eta 0:00:05\n",
            "   --------------------------------- ------ 32.0/38.1 MB 1.3 MB/s eta 0:00:05\n",
            "   --------------------------------- ------ 32.2/38.1 MB 1.3 MB/s eta 0:00:05\n",
            "   --------------------------------- ------ 32.2/38.1 MB 1.3 MB/s eta 0:00:05\n",
            "   --------------------------------- ------ 32.3/38.1 MB 1.3 MB/s eta 0:00:05\n",
            "   ---------------------------------- ----- 32.4/38.1 MB 1.3 MB/s eta 0:00:05\n",
            "   ---------------------------------- ----- 32.5/38.1 MB 1.4 MB/s eta 0:00:05\n",
            "   ---------------------------------- ----- 32.6/38.1 MB 1.4 MB/s eta 0:00:04\n",
            "   ---------------------------------- ----- 32.7/38.1 MB 1.4 MB/s eta 0:00:04\n",
            "   ---------------------------------- ----- 32.7/38.1 MB 1.4 MB/s eta 0:00:04\n",
            "   ---------------------------------- ----- 32.8/38.1 MB 1.4 MB/s eta 0:00:04\n",
            "   ---------------------------------- ----- 33.0/38.1 MB 1.4 MB/s eta 0:00:04\n",
            "   ---------------------------------- ----- 33.0/38.1 MB 1.4 MB/s eta 0:00:04\n",
            "   ---------------------------------- ----- 33.1/38.1 MB 1.4 MB/s eta 0:00:04\n",
            "   ---------------------------------- ----- 33.2/38.1 MB 1.4 MB/s eta 0:00:04\n",
            "   ---------------------------------- ----- 33.2/38.1 MB 1.4 MB/s eta 0:00:04\n",
            "   ----------------------------------- ---- 33.3/38.1 MB 1.4 MB/s eta 0:00:04\n",
            "   ----------------------------------- ---- 33.4/38.1 MB 1.4 MB/s eta 0:00:04\n",
            "   ----------------------------------- ---- 33.5/38.1 MB 1.4 MB/s eta 0:00:04\n",
            "   ----------------------------------- ---- 33.5/38.1 MB 1.4 MB/s eta 0:00:04\n",
            "   ----------------------------------- ---- 33.6/38.1 MB 1.4 MB/s eta 0:00:04\n",
            "   ----------------------------------- ---- 33.7/38.1 MB 1.5 MB/s eta 0:00:03\n",
            "   ----------------------------------- ---- 33.8/38.1 MB 1.5 MB/s eta 0:00:03\n",
            "   ----------------------------------- ---- 33.9/38.1 MB 1.5 MB/s eta 0:00:03\n",
            "   ----------------------------------- ---- 33.9/38.1 MB 1.5 MB/s eta 0:00:03\n",
            "   ----------------------------------- ---- 34.0/38.1 MB 1.5 MB/s eta 0:00:03\n",
            "   ----------------------------------- ---- 34.1/38.1 MB 1.5 MB/s eta 0:00:03\n",
            "   ----------------------------------- ---- 34.2/38.1 MB 1.6 MB/s eta 0:00:03\n",
            "   ----------------------------------- ---- 34.3/38.1 MB 1.6 MB/s eta 0:00:03\n",
            "   ------------------------------------ --- 34.4/38.1 MB 1.6 MB/s eta 0:00:03\n",
            "   ------------------------------------ --- 34.5/38.1 MB 1.6 MB/s eta 0:00:03\n",
            "   ------------------------------------ --- 34.5/38.1 MB 1.6 MB/s eta 0:00:03\n",
            "   ------------------------------------ --- 34.6/38.1 MB 1.6 MB/s eta 0:00:03\n",
            "   ------------------------------------ --- 34.8/38.1 MB 1.6 MB/s eta 0:00:03\n",
            "   ------------------------------------ --- 34.9/38.1 MB 1.6 MB/s eta 0:00:02\n",
            "   ------------------------------------ --- 34.9/38.1 MB 1.6 MB/s eta 0:00:02\n",
            "   ------------------------------------ --- 35.0/38.1 MB 1.6 MB/s eta 0:00:02\n",
            "   ------------------------------------ --- 35.1/38.1 MB 1.7 MB/s eta 0:00:02\n",
            "   ------------------------------------ --- 35.2/38.1 MB 1.7 MB/s eta 0:00:02\n",
            "   ------------------------------------- -- 35.2/38.1 MB 1.7 MB/s eta 0:00:02\n",
            "   ------------------------------------- -- 35.3/38.1 MB 1.7 MB/s eta 0:00:02\n",
            "   ------------------------------------- -- 35.4/38.1 MB 1.7 MB/s eta 0:00:02\n",
            "   ------------------------------------- -- 35.4/38.1 MB 1.7 MB/s eta 0:00:02\n",
            "   ------------------------------------- -- 35.4/38.1 MB 1.7 MB/s eta 0:00:02\n",
            "   ------------------------------------- -- 35.5/38.1 MB 1.7 MB/s eta 0:00:02\n",
            "   ------------------------------------- -- 35.5/38.1 MB 1.7 MB/s eta 0:00:02\n",
            "   ------------------------------------- -- 35.6/38.1 MB 1.7 MB/s eta 0:00:02\n",
            "   ------------------------------------- -- 35.7/38.1 MB 1.7 MB/s eta 0:00:02\n",
            "   ------------------------------------- -- 35.8/38.1 MB 1.8 MB/s eta 0:00:02\n",
            "   ------------------------------------- -- 35.9/38.1 MB 1.8 MB/s eta 0:00:02\n",
            "   ------------------------------------- -- 36.0/38.1 MB 1.8 MB/s eta 0:00:02\n",
            "   ------------------------------------- -- 36.1/38.1 MB 1.8 MB/s eta 0:00:02\n",
            "   -------------------------------------- - 36.2/38.1 MB 1.8 MB/s eta 0:00:02\n",
            "   -------------------------------------- - 36.3/38.1 MB 1.9 MB/s eta 0:00:01\n",
            "   -------------------------------------- - 36.4/38.1 MB 1.9 MB/s eta 0:00:01\n",
            "   -------------------------------------- - 36.6/38.1 MB 1.9 MB/s eta 0:00:01\n",
            "   -------------------------------------- - 36.8/38.1 MB 2.0 MB/s eta 0:00:01\n",
            "   -------------------------------------- - 37.0/38.1 MB 2.0 MB/s eta 0:00:01\n",
            "   -------------------------------------- - 37.1/38.1 MB 2.0 MB/s eta 0:00:01\n",
            "   ---------------------------------------  37.2/38.1 MB 2.1 MB/s eta 0:00:01\n",
            "   ---------------------------------------  37.2/38.1 MB 2.0 MB/s eta 0:00:01\n",
            "   ---------------------------------------  37.2/38.1 MB 2.0 MB/s eta 0:00:01\n",
            "   ---------------------------------------  37.3/38.1 MB 2.0 MB/s eta 0:00:01\n",
            "   ---------------------------------------  37.3/38.1 MB 2.0 MB/s eta 0:00:01\n",
            "   ---------------------------------------  37.4/38.1 MB 2.0 MB/s eta 0:00:01\n",
            "   ---------------------------------------  37.5/38.1 MB 2.1 MB/s eta 0:00:01\n",
            "   ---------------------------------------  37.6/38.1 MB 2.1 MB/s eta 0:00:01\n",
            "   ---------------------------------------  37.6/38.1 MB 2.1 MB/s eta 0:00:01\n",
            "   ---------------------------------------  37.7/38.1 MB 2.1 MB/s eta 0:00:01\n",
            "   ---------------------------------------  37.7/38.1 MB 2.1 MB/s eta 0:00:01\n",
            "   ---------------------------------------  37.9/38.1 MB 2.1 MB/s eta 0:00:01\n",
            "   ---------------------------------------  38.1/38.1 MB 2.1 MB/s eta 0:00:01\n",
            "   ---------------------------------------  38.1/38.1 MB 2.1 MB/s eta 0:00:01\n",
            "   ---------------------------------------  38.1/38.1 MB 2.1 MB/s eta 0:00:01\n",
            "   ---------------------------------------- 38.1/38.1 MB 2.0 MB/s eta 0:00:00\n",
            "Installing collected packages: opencv-python\n",
            "Successfully installed opencv-python-4.8.1.78\n",
            "Note: you may need to restart the kernel to use updated packages.\n"
          ]
        }
      ],
      "source": [
        "pip install opencv-python"
      ]
    },
    {
      "cell_type": "code",
      "execution_count": 38,
      "metadata": {},
      "outputs": [],
      "source": [
        "import numpy as np\n",
        "import matplotlib.pyplot as plt\n",
        "from keras.datasets import mnist\n",
        "from skimage.transform import rotate\n",
        "import cv2"
      ]
    },
    {
      "cell_type": "code",
      "execution_count": 39,
      "metadata": {},
      "outputs": [],
      "source": [
        "# Define the NN1 function for nearest neighbor classification\n",
        "def NN1(traindata, trainlabel, query):\n",
        "    diff = traindata - query\n",
        "    sq = diff * diff\n",
        "    dist = sq.sum(1)\n",
        "    label = trainlabel[np.argmin(dist)]\n",
        "    return label\n",
        "\n",
        "# Define the NN function for nearest neighbor classification\n",
        "def NN(traindata, trainlabel, testdata):\n",
        "    traindata = traindata.reshape(-1, 28 * 28)\n",
        "    testdata = testdata.reshape(-1, 28 * 28)\n",
        "    predlabel = np.array([NN1(traindata, trainlabel, i) for i in testdata])\n",
        "    return predlabel"
      ]
    },
    {
      "cell_type": "code",
      "execution_count": 40,
      "metadata": {},
      "outputs": [],
      "source": [
        "# Define custom augmentations\n",
        "def horizontal_flip(image):\n",
        "    return np.fliplr(image)\n",
        "\n",
        "def random_rotation(image, max_angle=30):\n",
        "    angle = np.random.uniform(-max_angle, max_angle)\n",
        "    h, w = image.shape[:2]\n",
        "    rotation_matrix = cv2.getRotationMatrix2D((w / 2, h / 2), angle, 1)\n",
        "    rotated_image = cv2.warpAffine(image, rotation_matrix, (w, h))\n",
        "    return rotated_image\n",
        "\n",
        "def random_brightness_contrast(image, brightness_range=(0.7, 1.3), contrast_range=(0.7, 1.3)):\n",
        "    brightness_factor = np.random.uniform(brightness_range[0], brightness_range[1])\n",
        "    contrast_factor = np.random.uniform(contrast_range[0], contrast_range[1])\n",
        "    \n",
        "    # Apply brightness and contrast adjustments\n",
        "    image = image * brightness_factor\n",
        "    image = np.clip(image, 0, 255)\n",
        "    image = (image - np.mean(image)) * contrast_factor + np.mean(image)\n",
        "    image = np.clip(image, 0, 255)\n",
        "    \n",
        "    return image.astype(np.uint8)"
      ]
    },
    {
      "cell_type": "code",
      "execution_count": 41,
      "metadata": {},
      "outputs": [],
      "source": [
        "# Load the MNIST dataset\n",
        "(train_X, train_y), (test_X, test_y) = mnist.load_data()\n",
        "\n",
        "# Subsample the training dataset\n",
        "train_X = train_X[::1200, :, :].copy()  # Subsample. Otherwise, it will take too long!\n",
        "train_y = train_y[::1200].copy()  # Do the same to the labels\n",
        "\n",
        "\n",
        "# Define the number of augmentations\n",
        "num_augmentations = 5\n",
        "\n",
        "# Augment the training data\n",
        "augmented_data = []\n",
        "augmented_labels = []\n",
        "\n",
        "for i in range(len(train_X)):\n",
        "    for _ in range(num_augmentations):\n",
        "        augmented_image = train_X[i].copy()\n",
        "        # Apply augmentations\n",
        "        augmented_image = horizontal_flip(augmented_image)\n",
        "        augmented_image = random_rotation(augmented_image)\n",
        "        augmented_image = random_brightness_contrast(augmented_image)\n",
        "        \n",
        "        augmented_data.append(augmented_image)\n",
        "        augmented_labels.append(train_y[i])\n"
      ]
    },
    {
      "cell_type": "code",
      "execution_count": 42,
      "metadata": {},
      "outputs": [],
      "source": [
        "# Convert the lists to NumPy arrays\n",
        "augmented_data = np.array(augmented_data)\n",
        "augmented_labels = np.array(augmented_labels)\n",
        "\n",
        "# Concatenate the original training data with augmented data\n",
        "augmented_train_X = np.concatenate((train_X, augmented_data), axis=0)\n",
        "augmented_train_y = np.concatenate((train_y, augmented_labels), axis=0)"
      ]
    },
    {
      "cell_type": "code",
      "execution_count": 43,
      "metadata": {},
      "outputs": [],
      "source": [
        "# Perform nearest neighbor classification on the augmented dataset\n",
        "testpred = NN(augmented_train_X, augmented_train_y, test_X)"
      ]
    },
    {
      "cell_type": "code",
      "execution_count": 44,
      "metadata": {},
      "outputs": [
        {
          "name": "stdout",
          "output_type": "stream",
          "text": [
            "Accuracy after augmentation: 0.1335\n"
          ]
        }
      ],
      "source": [
        "# Calculate accuracy\n",
        "def Accuracy(gtlabel, predlabel):\n",
        "    assert len(gtlabel) == len(predlabel), \"Length of the groundtruth labels and predicted labels should be the same\"\n",
        "    correct = (gtlabel == predlabel).sum()\n",
        "    return correct / len(gtlabel)\n",
        "\n",
        "accuracy = Accuracy(test_y, testpred)\n",
        "print('Accuracy after augmentation:', accuracy)"
      ]
    },
    {
      "cell_type": "code",
      "execution_count": 45,
      "metadata": {},
      "outputs": [
        {
          "data": {
            "image/png": "[encoded data removed]",
            "text/plain": [
              "<Figure size 640x480 with 1 Axes>"
            ]
          },
          "metadata": {},
          "output_type": "display_data"
        }
      ],
      "source": [
        " #Plot the accuracy\n",
        "plt.plot([0, 1], [Accuracy(test_y, testpred), Accuracy(test_y, testpred)], label=\"No Augmentation\")\n",
        "plt.plot([2], [accuracy], 'ro', label=\"With Augmentation\")\n",
        "plt.xticks([0, 1, 2], ['No Augmentation', 'No Augmentation', 'With Augmentation'])\n",
        "plt.ylabel('Accuracy')\n",
        "plt.title('Accuracy Comparison')\n",
        "plt.legend()\n",
        "plt.show()\n"
      ]
    }
  ],
  "metadata": {
    "colab": {
      "provenance": []
    },
    "kernelspec": {
      "display_name": "Python 3",
      "name": "python3"
    },
    "language_info": {
      "codemirror_mode": {
        "name": "ipython",
        "version": 3
      },
      "file_extension": ".py",
      "mimetype": "text/x-python",
      "name": "python",
      "nbconvert_exporter": "python",
      "pygments_lexer": "ipython3",
      "version": "3.11.5"
    }
  },
  "nbformat": 4,
  "nbformat_minor": 0
}
